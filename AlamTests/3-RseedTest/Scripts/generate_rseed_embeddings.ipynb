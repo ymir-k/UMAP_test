{
 "cells": [
  {
   "cell_type": "markdown",
   "metadata": {},
   "source": [
    "## Rseed Test\n",
    "\n",
    "This notebook helps test if the path lengths for a given bird song is consistent across UMAP renditions.\n",
    "\n",
    "Here, we start with the information in the scripts given by Alam et. al, and use it to generate 20 UMAP embeddings of the dataset of 31 tutored birdsongs, by changing only the seed to the random number generator.\n",
    "\n",
    "The 20 UMAP embeddings of the dataset of 31 tutored birdsongs generated here is used in all further tests."
   ]
  },
  {
   "cell_type": "code",
   "execution_count": 1,
   "metadata": {},
   "outputs": [
    {
     "name": "stderr",
     "output_type": "stream",
     "text": [
      "c:\\Users\\rsankar\\.conda\\envs\\UMAPalam\\Lib\\site-packages\\tqdm\\auto.py:21: TqdmWarning: IProgress not found. Please update jupyter and ipywidgets. See https://ipywidgets.readthedocs.io/en/stable/user_install.html\n",
      "  from .autonotebook import tqdm as notebook_tqdm\n"
     ]
    }
   ],
   "source": [
    "# Importing required python packages\n",
    "\n",
    "import umap\n",
    "import matplotlib.pyplot as plt\n",
    "import seaborn as sns\n",
    "import numpy as np\n",
    "import pandas as pd\n",
    "from tqdm import tqdm"
   ]
  },
  {
   "cell_type": "code",
   "execution_count": 2,
   "metadata": {},
   "outputs": [],
   "source": [
    "# Setting data paths\n",
    "\n",
    "data_folder =\"../../../AlamDataHandling/Data/\" # Set path to the folder containing the source data \"tut.csv\" provided by Alam et al.\n",
    "results_folder =\"../Results/\""
   ]
  },
  {
   "cell_type": "markdown",
   "metadata": {},
   "source": [
    "We use the source file \"tut.csv\", provided by the authors.\n",
    "It contains the dataset of the songs of the 31 tutored birds.\n",
    "\n"
   ]
  },
  {
   "cell_type": "code",
   "execution_count": 3,
   "metadata": {},
   "outputs": [],
   "source": [
    "# Read the source file \"tut.csv\" with the dataset of the songs of 31 tutored birds\n",
    "Clust= pd.read_csv(data_folder + r\"tut.csv\", index_col=0)"
   ]
  },
  {
   "cell_type": "code",
   "execution_count": 4,
   "metadata": {},
   "outputs": [],
   "source": [
    "# Script provided by the authors to read the cluster ids that correspond to syllable clusters in the UMAP embedding\n",
    "Clust2tut=Clust.drop(['file_name','cluster'], axis=1)\n",
    "Clustnptut=Clust2tut.to_numpy()\n",
    "Clustnptut= np.float32(Clustnptut)\n",
    "\n",
    "Clustnpcom = Clustnptut"
   ]
  },
  {
   "cell_type": "markdown",
   "metadata": {},
   "source": [
    "The authors have only included syllable cluster ids in their source csv.\n",
    "\n",
    "Here, they link syllable ids with the corresponding bird ids."
   ]
  },
  {
   "cell_type": "code",
   "execution_count": 5,
   "metadata": {},
   "outputs": [],
   "source": [
    "# Linking syllable ids to bird ids as per the script provided by Alam et al.\n",
    "\n",
    "label1=list(Clust['cluster'])\n",
    "labeltut=[]\n",
    "# v=[]\n",
    "for i in range(len(label1)):\n",
    "    if label1[i]<=5:\n",
    "        # v.append(0)\n",
    "        labeltut.append(0)\n",
    "    if label1[i]>=6 and label1[i]<=10:          # To be read as syllable ids #6-#10 belong to bird id #1\n",
    "        labeltut.append(1)\n",
    "    if label1[i]>=11 and label1[i]<=16:\n",
    "        labeltut.append(2)\n",
    "    if label1[i]>=17 and label1[i]<=20:\n",
    "        labeltut.append(3)\n",
    "    if label1[i]>=21 and label1[i]<=24:\n",
    "        labeltut.append(4)        \n",
    "    if label1[i]>=25 and label1[i]<=28:\n",
    "        labeltut.append(5)        \n",
    "    if label1[i]>=29 and label1[i]<=33:\n",
    "        labeltut.append(6)        \n",
    "    if label1[i]>=34 and label1[i]<=41:\n",
    "        labeltut.append(7)        \n",
    "    if label1[i]>=42 and label1[i]<=45:\n",
    "        labeltut.append(8)        \n",
    "    if label1[i]>=46 and label1[i]<=51:\n",
    "        labeltut.append(9)        \n",
    "    if label1[i]>=52 and label1[i]<=56:\n",
    "        labeltut.append(10)\n",
    "    if label1[i]>=57 and label1[i]<=61:\n",
    "        labeltut.append(11)\n",
    "    if label1[i]>=62 and label1[i]<=64:\n",
    "        labeltut.append(12)\n",
    "    if label1[i]>=65 and label1[i]<=71:\n",
    "        labeltut.append(13)        \n",
    "    if label1[i]>=72 and label1[i]<=75:\n",
    "        labeltut.append(14)        \n",
    "    if label1[i]>=76 and label1[i]<=81:\n",
    "        labeltut.append(15)        \n",
    "    if label1[i]>=82 and label1[i]<=84:\n",
    "        labeltut.append(16)        \n",
    "    if label1[i]>=85 and label1[i]<=88:\n",
    "        labeltut.append(17)        \n",
    "    if label1[i]>=89 and label1[i]<=94:\n",
    "        labeltut.append(18)  \n",
    "    if label1[i]>=95 and label1[i]<=97:\n",
    "        labeltut.append(19)\n",
    "    if label1[i]>=98 and label1[i]<=101:\n",
    "        labeltut.append(20)\n",
    "    if label1[i]>=102 and label1[i]<=107:\n",
    "        labeltut.append(21)        \n",
    "    if label1[i]>=108 and label1[i]<=115:\n",
    "        labeltut.append(22)        \n",
    "    if label1[i]>=116 and label1[i]<=120:\n",
    "        labeltut.append(23)        \n",
    "    if label1[i]>=121 and label1[i]<=124:\n",
    "        labeltut.append(24)        \n",
    "    if label1[i]>=125 and label1[i]<=128:\n",
    "        labeltut.append(25)        \n",
    "    if label1[i]>=129 and label1[i]<=131:\n",
    "        labeltut.append(26)  \n",
    "    if label1[i]>=132 and label1[i]<=135:\n",
    "        labeltut.append(27)        \n",
    "    if label1[i]>=136 and label1[i]<=140:\n",
    "        labeltut.append(28)        \n",
    "    if label1[i]>=141 and label1[i]<=144:\n",
    "        labeltut.append(29)        \n",
    "    if label1[i]>=145 and label1[i]<=149:\n",
    "        labeltut.append(30)     \n",
    "\n",
    "sns.set(context=\"paper\", style=\"white\")\n",
    "   "
   ]
  },
  {
   "cell_type": "markdown",
   "metadata": {},
   "source": [
    "We generate different states to initialise the random number generator for each UMAP computation"
   ]
  },
  {
   "cell_type": "code",
   "execution_count": 6,
   "metadata": {},
   "outputs": [
    {
     "data": {
      "text/plain": [
       "array([65682867, 56755036, 56882282, 21081788, 13315092, 35788921,\n",
       "       26735830, 93410762, 96319575, 91090292, 31632483, 76737383,\n",
       "       88358551, 88409749,  4981505, 13953367, 85652971,  4521373,\n",
       "        3344769, 98750923, 76893497, 30349564, 99052376, 42860080,\n",
       "       77751354, 62250665, 66209791, 46792155, 21498555, 97117135,\n",
       "       60221198, 79757501, 16861870, 52286002, 32049003, 61136438,\n",
       "       62194931, 65285250, 69537252, 59248434, 61306900, 55831368,\n",
       "       10959014, 56972561, 48900483, 20193880,  3385357, 44738553,\n",
       "       68574553, 16845364, 52157313, 95672411, 11392366, 69778859,\n",
       "       88883975, 13479854, 73506850, 13187277, 68979792, 37709731,\n",
       "       26939239, 23027075, 81200125, 86191493, 87796277, 66401385,\n",
       "       22335235,   271836,  3584702, 52631083,  8585377, 86544585,\n",
       "       85157821, 87655395, 17824013, 36601694, 67105583, 60304654,\n",
       "       34119117, 36433622, 89482491, 60031992, 55105831,  3366612,\n",
       "       58743503, 91693393, 36258670, 69739572, 55848857, 57055419,\n",
       "       49160571, 68394024, 64525468, 89966606, 38727468, 51757120,\n",
       "       67157848, 77897542, 73665032, 95540567])"
      ]
     },
     "execution_count": 6,
     "metadata": {},
     "output_type": "execute_result"
    }
   ],
   "source": [
    "# Initialising a global random state and generating random seeds to initialise each UMAP embedding\n",
    "\n",
    "np.random.seed(42)\n",
    "rseeds = np.random.randint(0, 1e8, 100)\n",
    "rseeds"
   ]
  },
  {
   "cell_type": "markdown",
   "metadata": {},
   "source": [
    "### Generating 20 different UMAP embeddings for the same dataset by changing only the initialisation state"
   ]
  },
  {
   "cell_type": "code",
   "execution_count": 7,
   "metadata": {},
   "outputs": [
    {
     "name": "stderr",
     "output_type": "stream",
     "text": [
      "  0%|          | 0/100 [00:00<?, ?it/s]\n"
     ]
    }
   ],
   "source": [
    "# Iterate through each rseed and generate a UMAP embedding for each rseed\n",
    "for rseed in tqdm(rseeds):\n",
    "    # Intialise the random state\n",
    "    np.random.seed(rseed)\n",
    "\n",
    "    # Generate UMAP embedding with the default parameters as used by the authors\n",
    "    embedding = umap.UMAP(\n",
    "        n_neighbors=15,\n",
    "        min_dist=.1,\n",
    "        metric='euclidean'\n",
    "    ).fit_transform(Clustnpcom)\n",
    "\n",
    "    # Save the embedding to a csv file\n",
    "    e=pd.DataFrame(embedding)\n",
    "    e.to_csv(results_folder + '/Embeddings/' + 'embedding_gen_' + str(rseed) + '.csv')\n",
    "\n",
    "    # Plot the UMAP embedding with the syllable cluster ids as the labels\n",
    "    fig, ax = plt.subplots(figsize=(12, 10))\n",
    "        \n",
    "    plt.scatter(embedding[:, 0], embedding[:, 1], c=labeltut, cmap=\"rainbow\", s=0.1, alpha=.1)\n",
    "\n",
    "    plt.setp(ax, xticks=[], yticks=[])\n",
    "    cbar = plt.colorbar()\n",
    "    # cbar.set_ticks(range(18))\n",
    "\n",
    "    plt.title(str(rseed) + \" by bird\", fontsize=18)\n",
    "\n",
    "    plt.xlim(embedding[:,0].min()-5, embedding[:,0].max()+5)\n",
    "    plt.ylim(embedding[:,1].min()-5, embedding[:,1].max()+5)\n",
    "\n",
    "    plt.savefig(results_folder + '/Embeddings/'  + \"UMAP_\" + str(rseed) + \".png\", dpi=300)\n",
    "\n",
    "\n",
    "\n"
   ]
  },
  {
   "cell_type": "code",
   "execution_count": null,
   "metadata": {},
   "outputs": [],
   "source": []
  }
 ],
 "metadata": {
  "kernelspec": {
   "display_name": "UMAPalam",
   "language": "python",
   "name": "python3"
  },
  "language_info": {
   "codemirror_mode": {
    "name": "ipython",
    "version": 3
   },
   "file_extension": ".py",
   "mimetype": "text/x-python",
   "name": "python",
   "nbconvert_exporter": "python",
   "pygments_lexer": "ipython3",
   "version": "3.12.7"
  }
 },
 "nbformat": 4,
 "nbformat_minor": 2
}
