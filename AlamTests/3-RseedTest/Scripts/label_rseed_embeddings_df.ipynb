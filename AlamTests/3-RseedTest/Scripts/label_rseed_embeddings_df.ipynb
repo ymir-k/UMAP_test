{
 "cells": [
  {
   "cell_type": "code",
   "execution_count": 1,
   "metadata": {},
   "outputs": [
    {
     "name": "stderr",
     "output_type": "stream",
     "text": [
      "/home/remya/anaconda3/envs/UMAPalam/lib/python3.11/site-packages/tqdm/auto.py:21: TqdmWarning: IProgress not found. Please update jupyter and ipywidgets. See https://ipywidgets.readthedocs.io/en/stable/user_install.html\n",
      "  from .autonotebook import tqdm as notebook_tqdm\n"
     ]
    }
   ],
   "source": [
    "import umap\n",
    "import matplotlib.pyplot as plt\n",
    "import numpy as np\n",
    "import pandas as pd\n",
    "from tqdm import tqdm\n",
    "import glob\n"
   ]
  },
  {
   "cell_type": "code",
   "execution_count": 2,
   "metadata": {},
   "outputs": [],
   "source": [
    "\n",
    "data_folder = \"/home/remya/Work/AlamTest/Alam JC/Oct 2024/Alam tests/Main script/Data/\"\n",
    "labels_folder = \"/home/remya/Work/AlamTest/Alam JC/Oct 2024/Alam tests/Aux scripts/Results/\"\n",
    "results_folder =\"/home/remya/Work/AlamTest/Alam JC/Oct 2024/Alam tests/Aux scripts/RseedTest/Results/\"\n",
    "embeddings_folder = results_folder + '/Embeddings/'\n"
   ]
  },
  {
   "cell_type": "code",
   "execution_count": 3,
   "metadata": {},
   "outputs": [],
   "source": [
    "label_file = labels_folder + \"tut_labels.csv\""
   ]
  },
  {
   "cell_type": "code",
   "execution_count": 4,
   "metadata": {},
   "outputs": [
    {
     "data": {
      "text/html": [
       "<div>\n",
       "<style scoped>\n",
       "    .dataframe tbody tr th:only-of-type {\n",
       "        vertical-align: middle;\n",
       "    }\n",
       "\n",
       "    .dataframe tbody tr th {\n",
       "        vertical-align: top;\n",
       "    }\n",
       "\n",
       "    .dataframe thead th {\n",
       "        text-align: right;\n",
       "    }\n",
       "</style>\n",
       "<table border=\"1\" class=\"dataframe\">\n",
       "  <thead>\n",
       "    <tr style=\"text-align: right;\">\n",
       "      <th></th>\n",
       "      <th>bird_id</th>\n",
       "      <th>bird_name</th>\n",
       "      <th>syll_id</th>\n",
       "      <th>filename</th>\n",
       "    </tr>\n",
       "  </thead>\n",
       "  <tbody>\n",
       "    <tr>\n",
       "      <th>0</th>\n",
       "      <td>0</td>\n",
       "      <td>B181</td>\n",
       "      <td>0</td>\n",
       "      <td>B181_43824.21890893_12_25_6_4_50_27.jpg</td>\n",
       "    </tr>\n",
       "    <tr>\n",
       "      <th>1</th>\n",
       "      <td>0</td>\n",
       "      <td>B181</td>\n",
       "      <td>0</td>\n",
       "      <td>B181_43824.21890893_12_25_6_4_50_36.jpg</td>\n",
       "    </tr>\n",
       "    <tr>\n",
       "      <th>2</th>\n",
       "      <td>0</td>\n",
       "      <td>B181</td>\n",
       "      <td>0</td>\n",
       "      <td>B181_43824.21904695_12_25_6_5_4_3.jpg</td>\n",
       "    </tr>\n",
       "    <tr>\n",
       "      <th>3</th>\n",
       "      <td>0</td>\n",
       "      <td>B181</td>\n",
       "      <td>0</td>\n",
       "      <td>B181_43824.21907655_12_25_6_5_7_12.jpg</td>\n",
       "    </tr>\n",
       "    <tr>\n",
       "      <th>4</th>\n",
       "      <td>0</td>\n",
       "      <td>B181</td>\n",
       "      <td>0</td>\n",
       "      <td>B181_43824.21913457_12_25_6_5_13_11.jpg</td>\n",
       "    </tr>\n",
       "    <tr>\n",
       "      <th>...</th>\n",
       "      <td>...</td>\n",
       "      <td>...</td>\n",
       "      <td>...</td>\n",
       "      <td>...</td>\n",
       "    </tr>\n",
       "    <tr>\n",
       "      <th>365914</th>\n",
       "      <td>30</td>\n",
       "      <td>S343</td>\n",
       "      <td>149</td>\n",
       "      <td>S343_43085.62887440_12_16_17_28_7_19.jpg</td>\n",
       "    </tr>\n",
       "    <tr>\n",
       "      <th>365915</th>\n",
       "      <td>30</td>\n",
       "      <td>S343</td>\n",
       "      <td>149</td>\n",
       "      <td>S343_43085.63082390_12_16_17_31_22_25.jpg</td>\n",
       "    </tr>\n",
       "    <tr>\n",
       "      <th>365916</th>\n",
       "      <td>30</td>\n",
       "      <td>S343</td>\n",
       "      <td>149</td>\n",
       "      <td>S343_43085.63082390_12_16_17_31_22_40.jpg</td>\n",
       "    </tr>\n",
       "    <tr>\n",
       "      <th>365917</th>\n",
       "      <td>30</td>\n",
       "      <td>S343</td>\n",
       "      <td>149</td>\n",
       "      <td>S343_43085.63100030_12_16_17_31_40_12.jpg</td>\n",
       "    </tr>\n",
       "    <tr>\n",
       "      <th>365918</th>\n",
       "      <td>30</td>\n",
       "      <td>S343</td>\n",
       "      <td>149</td>\n",
       "      <td>S343_43085.63932840_12_16_17_45_32_9.jpg</td>\n",
       "    </tr>\n",
       "  </tbody>\n",
       "</table>\n",
       "<p>365919 rows × 4 columns</p>\n",
       "</div>"
      ],
      "text/plain": [
       "        bird_id bird_name  syll_id                                   filename\n",
       "0             0      B181        0    B181_43824.21890893_12_25_6_4_50_27.jpg\n",
       "1             0      B181        0    B181_43824.21890893_12_25_6_4_50_36.jpg\n",
       "2             0      B181        0      B181_43824.21904695_12_25_6_5_4_3.jpg\n",
       "3             0      B181        0     B181_43824.21907655_12_25_6_5_7_12.jpg\n",
       "4             0      B181        0    B181_43824.21913457_12_25_6_5_13_11.jpg\n",
       "...         ...       ...      ...                                        ...\n",
       "365914       30      S343      149   S343_43085.62887440_12_16_17_28_7_19.jpg\n",
       "365915       30      S343      149  S343_43085.63082390_12_16_17_31_22_25.jpg\n",
       "365916       30      S343      149  S343_43085.63082390_12_16_17_31_22_40.jpg\n",
       "365917       30      S343      149  S343_43085.63100030_12_16_17_31_40_12.jpg\n",
       "365918       30      S343      149   S343_43085.63932840_12_16_17_45_32_9.jpg\n",
       "\n",
       "[365919 rows x 4 columns]"
      ]
     },
     "execution_count": 4,
     "metadata": {},
     "output_type": "execute_result"
    }
   ],
   "source": [
    "label_df = pd.read_csv(label_file)\n",
    "label_df"
   ]
  },
  {
   "cell_type": "code",
   "execution_count": 5,
   "metadata": {},
   "outputs": [],
   "source": [
    "rseed = 42\n",
    "np.random.seed(rseed)\n",
    "n_birds = 32\n",
    "n_rseed_reps = 20\n"
   ]
  },
  {
   "cell_type": "code",
   "execution_count": 6,
   "metadata": {},
   "outputs": [
    {
     "data": {
      "text/plain": [
       "['/home/remya/Work/AlamTest/Alam JC/Oct 2024/Alam tests/Aux scripts/RseedTest/Results//Embeddings/embedding_gen_13315092.csv',\n",
       " '/home/remya/Work/AlamTest/Alam JC/Oct 2024/Alam tests/Aux scripts/RseedTest/Results//Embeddings/embedding_gen_96319575.csv',\n",
       " '/home/remya/Work/AlamTest/Alam JC/Oct 2024/Alam tests/Aux scripts/RseedTest/Results//Embeddings/embedding_gen_88409749.csv',\n",
       " '/home/remya/Work/AlamTest/Alam JC/Oct 2024/Alam tests/Aux scripts/RseedTest/Results//Embeddings/embedding_gen_85652971.csv',\n",
       " '/home/remya/Work/AlamTest/Alam JC/Oct 2024/Alam tests/Aux scripts/RseedTest/Results//Embeddings/embedding_gen_93410762.csv',\n",
       " '/home/remya/Work/AlamTest/Alam JC/Oct 2024/Alam tests/Aux scripts/RseedTest/Results//Embeddings/embedding_gen_13953367.csv',\n",
       " '/home/remya/Work/AlamTest/Alam JC/Oct 2024/Alam tests/Aux scripts/RseedTest/Results//Embeddings/embedding_gen_21081788.csv',\n",
       " '/home/remya/Work/AlamTest/Alam JC/Oct 2024/Alam tests/Aux scripts/RseedTest/Results//Embeddings/embedding_gen_35788921.csv',\n",
       " '/home/remya/Work/AlamTest/Alam JC/Oct 2024/Alam tests/Aux scripts/RseedTest/Results//Embeddings/embedding_gen_65682867.csv',\n",
       " '/home/remya/Work/AlamTest/Alam JC/Oct 2024/Alam tests/Aux scripts/RseedTest/Results//Embeddings/embedding_gen_56755036.csv',\n",
       " '/home/remya/Work/AlamTest/Alam JC/Oct 2024/Alam tests/Aux scripts/RseedTest/Results//Embeddings/embedding_gen_98750923.csv',\n",
       " '/home/remya/Work/AlamTest/Alam JC/Oct 2024/Alam tests/Aux scripts/RseedTest/Results//Embeddings/embedding_gen_26735830.csv',\n",
       " '/home/remya/Work/AlamTest/Alam JC/Oct 2024/Alam tests/Aux scripts/RseedTest/Results//Embeddings/embedding_gen_91090292.csv',\n",
       " '/home/remya/Work/AlamTest/Alam JC/Oct 2024/Alam tests/Aux scripts/RseedTest/Results//Embeddings/embedding_gen_88358551.csv',\n",
       " '/home/remya/Work/AlamTest/Alam JC/Oct 2024/Alam tests/Aux scripts/RseedTest/Results//Embeddings/embedding_gen_3344769.csv',\n",
       " '/home/remya/Work/AlamTest/Alam JC/Oct 2024/Alam tests/Aux scripts/RseedTest/Results//Embeddings/embedding_gen_31632483.csv',\n",
       " '/home/remya/Work/AlamTest/Alam JC/Oct 2024/Alam tests/Aux scripts/RseedTest/Results//Embeddings/embedding_gen_56882282.csv',\n",
       " '/home/remya/Work/AlamTest/Alam JC/Oct 2024/Alam tests/Aux scripts/RseedTest/Results//Embeddings/embedding_gen_4521373.csv',\n",
       " '/home/remya/Work/AlamTest/Alam JC/Oct 2024/Alam tests/Aux scripts/RseedTest/Results//Embeddings/embedding_gen_4981505.csv',\n",
       " '/home/remya/Work/AlamTest/Alam JC/Oct 2024/Alam tests/Aux scripts/RseedTest/Results//Embeddings/embedding_gen_76737383.csv']"
      ]
     },
     "execution_count": 6,
     "metadata": {},
     "output_type": "execute_result"
    }
   ],
   "source": [
    "embedding_files = glob.glob(embeddings_folder + 'embedding_gen_*.csv')\n",
    "embedding_files"
   ]
  },
  {
   "cell_type": "code",
   "execution_count": 7,
   "metadata": {},
   "outputs": [
    {
     "data": {
      "text/plain": [
       "['13315092',\n",
       " '96319575',\n",
       " '88409749',\n",
       " '85652971',\n",
       " '93410762',\n",
       " '13953367',\n",
       " '21081788',\n",
       " '35788921',\n",
       " '65682867',\n",
       " '56755036',\n",
       " '98750923',\n",
       " '26735830',\n",
       " '91090292',\n",
       " '88358551',\n",
       " '3344769',\n",
       " '31632483',\n",
       " '56882282',\n",
       " '4521373',\n",
       " '4981505',\n",
       " '76737383']"
      ]
     },
     "execution_count": 7,
     "metadata": {},
     "output_type": "execute_result"
    }
   ],
   "source": [
    "rseeds = [efile.split('_')[-1].split('.')[0] for efile in embedding_files]\n",
    "rseeds"
   ]
  },
  {
   "cell_type": "code",
   "execution_count": 8,
   "metadata": {},
   "outputs": [],
   "source": [
    "\n",
    "for embedding_file in embedding_files:\n",
    "\n",
    "    embedding_df = pd.read_csv(embedding_file,  index_col=0)\n",
    "\n",
    "    label_embedding_df = pd.concat([embedding_df.reset_index(drop=True), label_df.reset_index(drop=True)], axis=1)\n",
    "\n",
    "    label_embedding_df = label_embedding_df.rename(columns={\"0\": \"x\", \"1\": \"y\"})\n",
    "\n",
    "    label_embedding_df.to_csv(embedding_file)\n",
    "\n"
   ]
  },
  {
   "cell_type": "code",
   "execution_count": null,
   "metadata": {},
   "outputs": [],
   "source": []
  }
 ],
 "metadata": {
  "kernelspec": {
   "display_name": "UMAPalam",
   "language": "python",
   "name": "python3"
  },
  "language_info": {
   "codemirror_mode": {
    "name": "ipython",
    "version": 3
   },
   "file_extension": ".py",
   "mimetype": "text/x-python",
   "name": "python",
   "nbconvert_exporter": "python",
   "pygments_lexer": "ipython3",
   "version": "3.11.10"
  }
 },
 "nbformat": 4,
 "nbformat_minor": 2
}
