{
 "cells": [
  {
   "cell_type": "code",
   "execution_count": 1,
   "metadata": {},
   "outputs": [],
   "source": [
    "import numpy as np\n",
    "import matplotlib.pyplot as plt\n",
    "import pandas as pd\n",
    "from scipy.spatial import distance\n",
    "from tqdm import tqdm\n",
    "import itertools"
   ]
  },
  {
   "cell_type": "code",
   "execution_count": 2,
   "metadata": {},
   "outputs": [],
   "source": [
    "def calc_distance(points):\n",
    "    \"\"\" Calculate the euclidean distance between two clusters. \"\"\"\n",
    "\n",
    "    total_distance = 0\n",
    "\n",
    "    for ind in np.arange(1,len(points)):\n",
    "        curr_distance = distance.euclidean(points[ind-1], points[ind])\n",
    "        total_distance += curr_distance\n",
    "\n",
    "    \n",
    "    return total_distance"
   ]
  },
  {
   "cell_type": "code",
   "execution_count": 3,
   "metadata": {},
   "outputs": [],
   "source": [
    "def calc_shortest_distance(centroids):\n",
    "\n",
    "    \n",
    "    all_permutations = np.array(list(itertools.permutations(centroids)))\n",
    "    perm_distances = [calc_distance(permutation) for permutation in all_permutations]\n",
    "    shortest_distance = np.min(perm_distances)\n",
    "    return shortest_distance\n",
    "        "
   ]
  },
  {
   "cell_type": "code",
   "execution_count": 4,
   "metadata": {},
   "outputs": [],
   "source": [
    "def gather_path_info(centroid_df, chosen_clusters, type='kmeans'):\n",
    "\n",
    "    if type=='ameans':\n",
    "        chosen_centroids = df_embedding.loc[df_embedding.cluster_id.isin(chosen_clusters), [\"centroid_x\", \"centroid_y\"]].values\n",
    "    elif type=='kmeans':\n",
    "        chosen_centroids = df_embedding.loc[df_embedding.cluster_id.isin(chosen_clusters), [\"kcentroid_x\", \"kcentroid_y\"]].values\n",
    "    else:\n",
    "        print(\"Type has to be kmeans/ameans.\")\n",
    "\n",
    "    n_syll = chosen_centroids.shape[0]\n",
    "    if n_syll != len(chosen_centroids):\n",
    "        print(\"Mismatch in number of syllables and chosen clusters.\")\n",
    "\n",
    "    \n",
    "\n",
    "    path_length = calc_shortest_distance(chosen_centroids)\n",
    "\n",
    "    \n",
    "    return path_length"
   ]
  },
  {
   "cell_type": "code",
   "execution_count": 5,
   "metadata": {},
   "outputs": [],
   "source": [
    "data_folder = r\"C:\\Users\\rsankar\\Documents\\Work\\Alam JC\\Alam JC\\Alam JC\\Oct 2024\\Alam tests\\Aux scripts\\RangeVsNsyllTest\\Results\\\\\"\n",
    "# results_folder =\"/home/remya/Work/AlamTest/Alam JC/Oct 2024/Alam tests/Aux scripts/RseedTest/Results/\"\n",
    "# centroids_folder = results_folder + '/KCentroids/'\n",
    "# distances_folder = results_folder + '/KDistances/'\n"
   ]
  },
  {
   "cell_type": "code",
   "execution_count": 6,
   "metadata": {},
   "outputs": [],
   "source": [
    "embedding_file = data_folder + 'centroids__3344769.csv'"
   ]
  },
  {
   "cell_type": "code",
   "execution_count": 7,
   "metadata": {},
   "outputs": [
    {
     "name": "stdout",
     "output_type": "stream",
     "text": [
      "   cluster_id  centroid_x  centroid_y  kcentroid_x  kcentroid_y  bird_id  \\\n",
      "0         0.0    3.535255   -4.860736     3.287780    -4.501783      0.0   \n",
      "1         1.0  -14.329256   -5.790513   -14.452105    -5.823099      0.0   \n",
      "2         2.0    0.294664   17.313989     0.136817    17.800746      0.0   \n",
      "3         3.0    3.884999   -8.418233     4.074479    -8.920797      0.0   \n",
      "4         4.0   -9.995483    3.241581   -12.020067     3.986688      0.0   \n",
      "\n",
      "   range_0_min  range_1_min  range_0_max  range_1_max  \n",
      "0   -15.499041   -16.618896    17.585873    18.215986  \n",
      "1   -15.499041   -16.618896    17.585873    18.215986  \n",
      "2   -15.499041   -16.618896    17.585873    18.215986  \n",
      "3   -15.499041   -16.618896    17.585873    18.215986  \n",
      "4   -15.499041   -16.618896    17.585873    18.215986  \n"
     ]
    }
   ],
   "source": [
    "# Read the CSV file into a DataFrame\n",
    "df_embedding = pd.read_csv(embedding_file)\n",
    "print(df_embedding.head())"
   ]
  },
  {
   "cell_type": "code",
   "execution_count": 8,
   "metadata": {},
   "outputs": [],
   "source": [
    "n_iter =  50\n",
    "n_clusters = 8\n",
    "path_lenghts = np.zeros((n_clusters+1, n_iter))"
   ]
  },
  {
   "cell_type": "code",
   "execution_count": 9,
   "metadata": {},
   "outputs": [],
   "source": [
    "path_lengths_dict = {\n",
    "    'n_clusters': [],\n",
    "    'iteration': [],\n",
    "    'kdistance': [],\n",
    "    'distance': []\n",
    "}"
   ]
  },
  {
   "cell_type": "code",
   "execution_count": 10,
   "metadata": {},
   "outputs": [],
   "source": [
    "np.random.seed(0)"
   ]
  },
  {
   "cell_type": "code",
   "execution_count": 11,
   "metadata": {},
   "outputs": [
    {
     "name": "stderr",
     "output_type": "stream",
     "text": [
      "100%|██████████| 50/50 [00:00<00:00, 1170.52it/s]\n"
     ]
    },
    {
     "name": "stdout",
     "output_type": "stream",
     "text": [
      "[114.  62.]\n",
      "[ 92. 141.]\n",
      "[ 85. 137.]\n",
      "[114.  49.]\n",
      "[ 15. 143.]\n",
      "[38. 46.]\n",
      "[92. 75.]\n",
      "[25. 73.]\n",
      "[ 6. 92.]\n",
      "[132.  90.]\n",
      "[74. 60.]\n",
      "[ 98. 138.]\n",
      "[49. 24.]\n",
      "[23. 66.]\n",
      "[133.  79.]\n",
      "[ 26. 142.]\n",
      "[ 81. 122.]\n",
      "[ 84. 133.]\n",
      "[68.  2.]\n",
      "[111.   9.]\n",
      "[  4. 138.]\n",
      "[50. 85.]\n",
      "[33. 15.]\n",
      "[73. 59.]\n",
      "[40. 46.]\n",
      "[110. 109.]\n",
      "[105.  42.]\n",
      "[35. 93.]\n",
      "[ 4. 65.]\n",
      "[19. 80.]\n",
      "[ 0. 19.]\n",
      "[21. 99.]\n",
      "[77. 27.]\n",
      "[51. 16.]\n",
      "[113.   7.]\n",
      "[23. 49.]\n",
      "[107.  85.]\n",
      "[125. 115.]\n",
      "[55. 45.]\n",
      "[39. 79.]\n",
      "[97. 99.]\n",
      "[125. 101.]\n",
      "[143.  97.]\n",
      "[135.  85.]\n",
      "[85. 19.]\n",
      "[25. 12.]\n",
      "[116.  14.]\n",
      "[112. 119.]\n",
      "[39. 22.]\n",
      "[  3. 113.]\n"
     ]
    },
    {
     "name": "stderr",
     "output_type": "stream",
     "text": [
      "100%|██████████| 50/50 [00:00<00:00, 1145.41it/s]\n"
     ]
    },
    {
     "name": "stdout",
     "output_type": "stream",
     "text": [
      "[133.  55.  23.]\n",
      "[ 83. 143.   4.]\n",
      "[119.  22.  21.]\n",
      "[14. 71. 24.]\n",
      "[78. 74. 70.]\n",
      "[ 62. 133.  49.]\n",
      "[ 90.  88. 116.]\n",
      "[149.  90. 114.]\n",
      "[ 85.  22. 116.]\n",
      "[114. 106. 131.]\n",
      "[113.  58.  70.]\n",
      "[135.  77.  21.]\n",
      "[132.  51.  41.]\n",
      "[132.  66.  76.]\n",
      "[84. 89. 10.]\n",
      "[44. 11. 26.]\n",
      "[103. 126.  93.]\n",
      "[ 10. 117.  21.]\n",
      "[  2. 122.  91.]\n",
      "[ 97.  90. 149.]\n",
      "[26. 32. 54.]\n",
      "[70. 84. 72.]\n",
      "[ 97. 121. 148.]\n",
      "[117. 122.  72.]\n",
      "[ 33.  46. 137.]\n",
      "[ 74.  31. 111.]\n",
      "[55. 43. 90.]\n",
      "[106. 123.  22.]\n",
      "[  0.  89. 101.]\n",
      "[ 11. 112.  78.]\n",
      "[  4.  41. 106.]\n",
      "[137.  33. 118.]\n",
      "[108. 149.   3.]\n",
      "[ 1. 14. 36.]\n",
      "[  7. 121.  66.]\n",
      "[122. 116. 102.]\n",
      "[ 38. 107. 139.]\n",
      "[ 95. 147.  73.]\n",
      "[83. 59. 22.]\n",
      "[ 57.  58. 127.]\n",
      "[117. 146.  94.]\n",
      "[32. 96. 11.]\n",
      "[11. 32. 96.]\n",
      "[ 47. 116.  13.]\n",
      "[ 21. 138.  94.]\n",
      "[119.   6.  19.]\n",
      "[65. 42. 24.]\n",
      "[105.  47. 117.]\n",
      "[129.  41.  32.]\n",
      "[27. 18. 81.]\n"
     ]
    },
    {
     "name": "stderr",
     "output_type": "stream",
     "text": [
      "  0%|          | 0/50 [00:00<?, ?it/s]"
     ]
    },
    {
     "name": "stdout",
     "output_type": "stream",
     "text": [
      "[ 25.  12.  64. 120.]\n",
      "[148.  55.  72.  67.]\n",
      "[97. 91. 78. 65.]\n",
      "[129.   0. 117.  11.]\n",
      "[ 72.  23. 107.  31.]\n",
      "[133. 129.  43.  76.]\n",
      "[ 95. 101. 102. 113.]\n",
      "[23. 93. 86. 26.]\n",
      "[46. 44. 73. 77.]\n",
      "[ 62.  86.  75. 145.]\n",
      "[104. 106.  51. 101.]\n",
      "[19. 87. 94. 61.]\n",
      "[146. 134. 142. 132.]\n",
      "[66. 25. 90. 18.]\n",
      "[76. 94. 56. 97.]\n",
      "[ 92.  12.  98. 107.]\n",
      "[ 15.  84. 148.  68.]\n",
      "[ 33.  89. 106.  63.]\n",
      "[ 45.  88.  29. 119.]\n",
      "[ 16. 137. 130.  85.]\n",
      "[  6. 128. 117.  43.]\n",
      "[ 16.  53.  82. 143.]\n",
      "[90.  8. 66. 19.]\n",
      "[79. 71. 86.  6.]\n",
      "[20. 73. 46. 97.]\n",
      "[ 26.   0.  61. 101.]\n",
      "[ 78. 128. 123. 117.]\n",
      "[ 59. 104.  49.  68.]\n",
      "[ 13.  81. 135. 145.]\n",
      "[113. 139.  26.  94.]\n",
      "[  5. 103. 133.  64.]\n",
      "[143.  14.  72.   4.]\n",
      "[129.  53.  10.  54.]\n",
      "[ 51.  84. 123.  89.]\n",
      "[ 63. 119.  33.  21.]\n",
      "[101.  30.  19.  11.]\n",
      "[11. 49. 95. 96.]\n",
      "[46. 30. 52. 28.]\n",
      "[ 19. 120.  21. 100.]\n",
      "[ 74.  17. 140.  23.]\n",
      "[111. 126.  82.  67.]\n",
      "[10. 97. 39. 79.]\n",
      "[ 78.  81.  29. 100.]\n",
      "[ 19.  31.  90. 113.]\n",
      "[59. 94. 81. 60.]\n"
     ]
    },
    {
     "name": "stderr",
     "output_type": "stream",
     "text": [
      "100%|██████████| 50/50 [00:00<00:00, 708.19it/s]\n"
     ]
    },
    {
     "name": "stdout",
     "output_type": "stream",
     "text": [
      "[102. 125.  43. 112.]\n",
      "[ 69. 122.  18. 121.]\n",
      "[ 38.  24. 140.  46.]\n",
      "[ 81.  43. 120. 138.]\n",
      "[ 34. 114.  90.  66.]\n"
     ]
    },
    {
     "name": "stderr",
     "output_type": "stream",
     "text": [
      "  0%|          | 0/50 [00:00<?, ?it/s]"
     ]
    },
    {
     "name": "stdout",
     "output_type": "stream",
     "text": [
      "[142.  95.  80.   7.  22.]\n",
      "[148.  56.  52.  10.  11.]\n",
      "[ 96.  10. 125.  83.  53.]\n",
      "[ 28.  75.  92.  81. 118.]\n",
      "[ 81. 115.  78.  22.  40.]\n",
      "[ 52.  14.   9. 147. 118.]\n",
      "[103.  90.  10. 105.  61.]\n",
      "[126. 129. 102. 148. 106.]\n",
      "[  4.  35.  23. 130.  33.]\n",
      "[ 36.  33. 117.  89.  65.]\n",
      "[114.  57.  14. 118. 143.]\n",
      "[145.  54.  67.  29.  58.]\n",
      "[122. 127. 128.  22. 109.]\n",
      "[  8. 129. 145. 120.  19.]\n",
      "[141.  63. 113.  34.  57.]\n",
      "[ 91. 121.   3. 142.  56.]\n",
      "[ 75.  59.  79.  25. 116.]\n"
     ]
    },
    {
     "name": "stderr",
     "output_type": "stream",
     "text": [
      " 40%|████      | 20/50 [00:00<00:00, 196.30it/s]"
     ]
    },
    {
     "name": "stdout",
     "output_type": "stream",
     "text": [
      "[120.   6.  34.  94.  73.]\n",
      "[142.  76.  11.  27.  78.]\n",
      "[131.  22. 116.  15.  62.]\n",
      "[88. 49.  5. 98. 40.]\n",
      "[142. 130.  21.  26.  19.]\n",
      "[130.  99. 106.  55.  52.]\n",
      "[125. 130.  64.  84. 140.]\n",
      "[105.  59.  81.  65. 141.]\n",
      "[ 51.  66.  26. 133.  71.]\n",
      "[119. 109.   7.  75. 121.]\n",
      "[ 42.  31. 114.  59. 144.]\n",
      "[ 41. 148.  44.  50.  21.]\n",
      "[ 44.   4. 110. 105.  55.]\n",
      "[116. 148.  90.   8.   4.]\n",
      "[ 68.  32.  48. 105.  52.]\n",
      "[146.  82. 119.  80.  73.]\n",
      "[133.  28. 138.  94. 142.]\n",
      "[ 34.  89. 122.   6.  86.]\n",
      "[ 48.  35. 109.  57. 125.]\n",
      "[ 16.  61.  64.  42. 127.]\n",
      "[  9. 104. 114. 132. 138.]\n",
      "[122.  59.  12.  43.   8.]\n"
     ]
    },
    {
     "name": "stderr",
     "output_type": "stream",
     "text": [
      "100%|██████████| 50/50 [00:00<00:00, 201.70it/s]"
     ]
    },
    {
     "name": "stdout",
     "output_type": "stream",
     "text": [
      "[59.  1. 24. 58. 15.]\n",
      "[103.  34. 101.  62. 129.]\n",
      "[141. 107.  92.  71. 130.]\n",
      "[ 24.  33. 114.  23. 126.]\n",
      "[ 48. 137.  45. 141.  91.]\n",
      "[114.  69. 110.  63. 146.]\n",
      "[45. 21. 33. 74. 92.]\n",
      "[ 26.   0.  54. 146.  19.]\n",
      "[38. 94. 31. 42. 47.]\n",
      "[ 16. 112.  78.  42.  57.]\n",
      "[116. 134.  72.  10. 129.]\n"
     ]
    },
    {
     "name": "stderr",
     "output_type": "stream",
     "text": [
      "\n",
      "  0%|          | 0/50 [00:00<?, ?it/s]"
     ]
    },
    {
     "name": "stdout",
     "output_type": "stream",
     "text": [
      "[ 70.  30.  17.  76. 117.  94.]\n",
      "[ 36.  69. 119.  19.   8.  24.]\n",
      "[ 91.  61. 140.  92.  27.  57.]\n"
     ]
    },
    {
     "name": "stderr",
     "output_type": "stream",
     "text": [
      "  8%|▊         | 4/50 [00:00<00:01, 32.37it/s]"
     ]
    },
    {
     "name": "stdout",
     "output_type": "stream",
     "text": [
      "[19. 95. 57. 36. 48. 75.]\n",
      "[121.  58.  71. 104.  36.  89.]\n",
      "[133. 115.  40.  58. 108. 112.]\n",
      "[135.  18.  81. 119.  87. 120.]\n",
      "[139.  19. 131. 123. 112.  87.]\n"
     ]
    },
    {
     "name": "stderr",
     "output_type": "stream",
     "text": [
      " 16%|█▌        | 8/50 [00:00<00:01, 32.80it/s]"
     ]
    },
    {
     "name": "stdout",
     "output_type": "stream",
     "text": [
      "[132.  53.  58. 119.  48. 126.]\n",
      "[147.  90. 104.   5. 107. 106.]\n",
      "[107.  40.  79.  61. 147.  74.]\n"
     ]
    },
    {
     "name": "stderr",
     "output_type": "stream",
     "text": [
      " 24%|██▍       | 12/50 [00:00<00:01, 32.28it/s]"
     ]
    },
    {
     "name": "stdout",
     "output_type": "stream",
     "text": [
      "[134. 109.  26.  52.  76.  43.]\n",
      "[115. 110. 107. 111.  53.  72.]\n",
      "[38. 23. 53. 60. 90. 87.]\n",
      "[118.  25.  68.  36.  32.  28.]\n",
      "[ 25.  53.  20. 123.  22.  71.]\n"
     ]
    },
    {
     "name": "stderr",
     "output_type": "stream",
     "text": [
      " 32%|███▏      | 16/50 [00:00<00:01, 32.35it/s]"
     ]
    },
    {
     "name": "stdout",
     "output_type": "stream",
     "text": [
      "[136. 125.  80.  15.  32. 127.]\n",
      "[122. 120. 147.  78. 144.  37.]\n",
      "[ 34. 125.  55. 128.  57. 147.]\n"
     ]
    },
    {
     "name": "stderr",
     "output_type": "stream",
     "text": [
      " 40%|████      | 20/50 [00:00<00:00, 32.42it/s]"
     ]
    },
    {
     "name": "stdout",
     "output_type": "stream",
     "text": [
      "[142.  78. 144.  22. 121.  54.]\n",
      "[72. 33. 31. 62. 71.  0.]\n",
      "[ 35.  66.  47.  94. 103.  85.]\n",
      "[138.   0.  75.  89. 131.  17.]\n"
     ]
    },
    {
     "name": "stderr",
     "output_type": "stream",
     "text": [
      " 48%|████▊     | 24/50 [00:00<00:00, 32.07it/s]"
     ]
    },
    {
     "name": "stdout",
     "output_type": "stream",
     "text": [
      "[120.  72.  36.  99.  70.   9.]\n",
      "[75. 92. 72. 63. 60. 86.]\n",
      "[ 59.  67.  91. 144. 101.  45.]\n",
      "[ 96.  93.  83. 127. 148. 134.]\n"
     ]
    },
    {
     "name": "stderr",
     "output_type": "stream",
     "text": [
      " 56%|█████▌    | 28/50 [00:00<00:00, 30.78it/s]"
     ]
    },
    {
     "name": "stdout",
     "output_type": "stream",
     "text": [
      "[ 96.  78. 129.  38.  94.  95.]\n",
      "[117.  67. 126.   6. 147. 127.]\n",
      "[ 65. 147.  38.  18.   0.  76.]\n"
     ]
    },
    {
     "name": "stderr",
     "output_type": "stream",
     "text": [
      " 64%|██████▍   | 32/50 [00:01<00:00, 30.73it/s]"
     ]
    },
    {
     "name": "stdout",
     "output_type": "stream",
     "text": [
      "[ 22. 107.  92. 108.  76.  90.]\n",
      "[ 59.  38.  91. 103.   1. 142.]\n",
      "[ 81. 143.  28.  66. 106.  43.]\n",
      "[ 45.  23.  52. 108.  40. 104.]\n"
     ]
    },
    {
     "name": "stderr",
     "output_type": "stream",
     "text": [
      " 72%|███████▏  | 36/50 [00:01<00:00, 30.98it/s]"
     ]
    },
    {
     "name": "stdout",
     "output_type": "stream",
     "text": [
      "[ 93.  53.  36.  45.  62. 146.]\n",
      "[ 82.  74.  49. 135. 103.  60.]\n"
     ]
    },
    {
     "name": "stderr",
     "output_type": "stream",
     "text": [
      " 80%|████████  | 40/50 [00:01<00:00, 31.46it/s]"
     ]
    },
    {
     "name": "stdout",
     "output_type": "stream",
     "text": [
      "[ 57. 131. 141. 105.  31.  42.]\n",
      "[107.  57.  51.  19.  15.  94.]\n",
      "[119. 110. 123. 117. 139.  99.]\n",
      "[ 96. 141.  19.  17.  30.  92.]\n",
      "[ 20. 120.  18.  68.  14. 149.]\n",
      "[143. 125.   4.  72.  46. 129.]\n",
      "[ 74.  40.  86. 149.  11. 146.]\n",
      "[ 45.  33. 146.  57. 141. 114.]\n"
     ]
    },
    {
     "name": "stderr",
     "output_type": "stream",
     "text": [
      " 88%|████████▊ | 44/50 [00:01<00:00, 31.92it/s]"
     ]
    },
    {
     "name": "stdout",
     "output_type": "stream",
     "text": [
      "[ 83.  60.  51.  54. 132.  70.]\n",
      "[147.  93.   0. 116.  87.  62.]\n",
      "[  1. 102.  66. 107.  57.  37.]\n",
      "[  8. 120.  65.  37.  57.   9.]\n"
     ]
    },
    {
     "name": "stderr",
     "output_type": "stream",
     "text": [
      "100%|██████████| 50/50 [00:01<00:00, 31.77it/s]"
     ]
    },
    {
     "name": "stdout",
     "output_type": "stream",
     "text": [
      "[ 17.  50. 131. 104.  15. 149.]\n",
      "[136.  71. 103.  24.  34.  97.]\n"
     ]
    },
    {
     "name": "stderr",
     "output_type": "stream",
     "text": [
      "\n",
      "  2%|▏         | 1/50 [00:00<00:11,  4.34it/s]"
     ]
    },
    {
     "name": "stdout",
     "output_type": "stream",
     "text": [
      "[ 97.  38.   5. 134.  66.  42. 121.]\n"
     ]
    },
    {
     "name": "stderr",
     "output_type": "stream",
     "text": [
      "  4%|▍         | 2/50 [00:00<00:10,  4.41it/s]"
     ]
    },
    {
     "name": "stdout",
     "output_type": "stream",
     "text": [
      "[108. 132. 111.  43. 149.   8. 138.]\n",
      "[120.  87. 137.  11.   0.  20.  72.]\n"
     ]
    },
    {
     "name": "stderr",
     "output_type": "stream",
     "text": [
      "  8%|▊         | 4/50 [00:00<00:10,  4.33it/s]"
     ]
    },
    {
     "name": "stdout",
     "output_type": "stream",
     "text": [
      "[146.  93.   0. 132.  33.  28.  54.]\n"
     ]
    },
    {
     "name": "stderr",
     "output_type": "stream",
     "text": [
      " 10%|█         | 5/50 [00:01<00:10,  4.38it/s]"
     ]
    },
    {
     "name": "stdout",
     "output_type": "stream",
     "text": [
      "[ 30. 145.  36.  40.   3.  54. 106.]\n"
     ]
    },
    {
     "name": "stderr",
     "output_type": "stream",
     "text": [
      " 12%|█▏        | 6/50 [00:01<00:09,  4.50it/s]"
     ]
    },
    {
     "name": "stdout",
     "output_type": "stream",
     "text": [
      "[146. 103. 100.  54.  42.   5. 148.]\n"
     ]
    },
    {
     "name": "stderr",
     "output_type": "stream",
     "text": [
      " 14%|█▍        | 7/50 [00:01<00:10,  4.14it/s]"
     ]
    },
    {
     "name": "stdout",
     "output_type": "stream",
     "text": [
      "[  0. 106.  35.  77. 108. 112.  49.]\n"
     ]
    },
    {
     "name": "stderr",
     "output_type": "stream",
     "text": [
      " 16%|█▌        | 8/50 [00:01<00:09,  4.30it/s]"
     ]
    },
    {
     "name": "stdout",
     "output_type": "stream",
     "text": [
      "[ 97.  66.  56.  46. 126. 105.  91.]\n"
     ]
    },
    {
     "name": "stderr",
     "output_type": "stream",
     "text": [
      " 18%|█▊        | 9/50 [00:02<00:09,  4.43it/s]"
     ]
    },
    {
     "name": "stdout",
     "output_type": "stream",
     "text": [
      "[ 12.  66.  91.  31.  55. 114.  42.]\n"
     ]
    },
    {
     "name": "stderr",
     "output_type": "stream",
     "text": [
      " 20%|██        | 10/50 [00:02<00:08,  4.47it/s]"
     ]
    },
    {
     "name": "stdout",
     "output_type": "stream",
     "text": [
      "[114.   1.  37.  42. 140. 149.  59.]\n"
     ]
    },
    {
     "name": "stderr",
     "output_type": "stream",
     "text": [
      " 22%|██▏       | 11/50 [00:02<00:08,  4.59it/s]"
     ]
    },
    {
     "name": "stdout",
     "output_type": "stream",
     "text": [
      "[ 42.   2.  28.  67.  78. 122.  76.]\n"
     ]
    },
    {
     "name": "stderr",
     "output_type": "stream",
     "text": [
      " 24%|██▍       | 12/50 [00:02<00:08,  4.59it/s]"
     ]
    },
    {
     "name": "stdout",
     "output_type": "stream",
     "text": [
      "[127. 138.  77.   0. 106.   8.  23.]\n"
     ]
    },
    {
     "name": "stderr",
     "output_type": "stream",
     "text": [
      " 26%|██▌       | 13/50 [00:02<00:08,  4.61it/s]"
     ]
    },
    {
     "name": "stdout",
     "output_type": "stream",
     "text": [
      "[105. 119. 121.  83. 100. 135.  39.]\n"
     ]
    },
    {
     "name": "stderr",
     "output_type": "stream",
     "text": [
      " 28%|██▊       | 14/50 [00:03<00:07,  4.63it/s]"
     ]
    },
    {
     "name": "stdout",
     "output_type": "stream",
     "text": [
      "[ 36. 103.  93. 104.  89.  17.  25.]\n"
     ]
    },
    {
     "name": "stderr",
     "output_type": "stream",
     "text": [
      " 30%|███       | 15/50 [00:03<00:07,  4.63it/s]"
     ]
    },
    {
     "name": "stdout",
     "output_type": "stream",
     "text": [
      "[ 53.  46.  16. 141.  28. 133. 134.]\n"
     ]
    },
    {
     "name": "stderr",
     "output_type": "stream",
     "text": [
      " 32%|███▏      | 16/50 [00:03<00:07,  4.66it/s]"
     ]
    },
    {
     "name": "stdout",
     "output_type": "stream",
     "text": [
      "[111. 136. 146. 126.  79.  30.  38.]\n"
     ]
    },
    {
     "name": "stderr",
     "output_type": "stream",
     "text": [
      " 34%|███▍      | 17/50 [00:03<00:07,  4.65it/s]"
     ]
    },
    {
     "name": "stdout",
     "output_type": "stream",
     "text": [
      "[ 53.  32.  40. 142.  24. 122.  11.]\n"
     ]
    },
    {
     "name": "stderr",
     "output_type": "stream",
     "text": [
      " 36%|███▌      | 18/50 [00:04<00:07,  4.50it/s]"
     ]
    },
    {
     "name": "stdout",
     "output_type": "stream",
     "text": [
      "[ 72.  39. 110.  83. 147.  45.  74.]\n"
     ]
    },
    {
     "name": "stderr",
     "output_type": "stream",
     "text": [
      " 38%|███▊      | 19/50 [00:04<00:06,  4.54it/s]"
     ]
    },
    {
     "name": "stdout",
     "output_type": "stream",
     "text": [
      "[ 27.  56. 119. 141.  59.  54.  82.]\n"
     ]
    },
    {
     "name": "stderr",
     "output_type": "stream",
     "text": [
      " 40%|████      | 20/50 [00:04<00:06,  4.55it/s]"
     ]
    },
    {
     "name": "stdout",
     "output_type": "stream",
     "text": [
      "[131.  21.  89. 124.  93. 139.  31.]\n",
      "[ 95.  18.  13. 110.  66.  32.  42.]\n"
     ]
    },
    {
     "name": "stderr",
     "output_type": "stream",
     "text": [
      " 44%|████▍     | 22/50 [00:04<00:06,  4.52it/s]"
     ]
    },
    {
     "name": "stdout",
     "output_type": "stream",
     "text": [
      "[100.  57.  26. 141.  59.  55.  93.]\n"
     ]
    },
    {
     "name": "stderr",
     "output_type": "stream",
     "text": [
      " 46%|████▌     | 23/50 [00:05<00:05,  4.50it/s]"
     ]
    },
    {
     "name": "stdout",
     "output_type": "stream",
     "text": [
      "[109.  95. 149.  39.  28.  43.  26.]\n"
     ]
    },
    {
     "name": "stderr",
     "output_type": "stream",
     "text": [
      " 48%|████▊     | 24/50 [00:05<00:05,  4.59it/s]"
     ]
    },
    {
     "name": "stdout",
     "output_type": "stream",
     "text": [
      "[ 25.  81. 107. 113.  55.  66.   5.]\n"
     ]
    },
    {
     "name": "stderr",
     "output_type": "stream",
     "text": [
      " 50%|█████     | 25/50 [00:05<00:05,  4.61it/s]"
     ]
    },
    {
     "name": "stdout",
     "output_type": "stream",
     "text": [
      "[ 78.  95.  59.  19.  58.   9. 103.]\n"
     ]
    },
    {
     "name": "stderr",
     "output_type": "stream",
     "text": [
      " 52%|█████▏    | 26/50 [00:05<00:05,  4.63it/s]"
     ]
    },
    {
     "name": "stdout",
     "output_type": "stream",
     "text": [
      "[49. 10. 69. 98. 68.  6. 99.]\n"
     ]
    },
    {
     "name": "stderr",
     "output_type": "stream",
     "text": [
      " 54%|█████▍    | 27/50 [00:05<00:04,  4.64it/s]"
     ]
    },
    {
     "name": "stdout",
     "output_type": "stream",
     "text": [
      "[ 15. 102.  64.  82.  73. 120. 113.]\n"
     ]
    },
    {
     "name": "stderr",
     "output_type": "stream",
     "text": [
      " 56%|█████▌    | 28/50 [00:06<00:04,  4.60it/s]"
     ]
    },
    {
     "name": "stdout",
     "output_type": "stream",
     "text": [
      "[ 70.  71.  10. 136.  73. 127. 135.]\n"
     ]
    },
    {
     "name": "stderr",
     "output_type": "stream",
     "text": [
      " 58%|█████▊    | 29/50 [00:06<00:04,  4.65it/s]"
     ]
    },
    {
     "name": "stdout",
     "output_type": "stream",
     "text": [
      "[115.  87. 136. 138.   3.  82.  32.]\n"
     ]
    },
    {
     "name": "stderr",
     "output_type": "stream",
     "text": [
      " 60%|██████    | 30/50 [00:06<00:04,  4.59it/s]"
     ]
    },
    {
     "name": "stdout",
     "output_type": "stream",
     "text": [
      "[132.  63.  42.  33.  97.   0. 124.]\n"
     ]
    },
    {
     "name": "stderr",
     "output_type": "stream",
     "text": [
      " 62%|██████▏   | 31/50 [00:06<00:04,  4.62it/s]"
     ]
    },
    {
     "name": "stdout",
     "output_type": "stream",
     "text": [
      "[ 53.  42. 108. 120.   5. 109. 110.]\n"
     ]
    },
    {
     "name": "stderr",
     "output_type": "stream",
     "text": [
      " 64%|██████▍   | 32/50 [00:07<00:04,  4.48it/s]"
     ]
    },
    {
     "name": "stdout",
     "output_type": "stream",
     "text": [
      "[  9.  85.  18.  42.  22. 110.  91.]\n"
     ]
    },
    {
     "name": "stderr",
     "output_type": "stream",
     "text": [
      " 66%|██████▌   | 33/50 [00:07<00:03,  4.48it/s]"
     ]
    },
    {
     "name": "stdout",
     "output_type": "stream",
     "text": [
      "[ 81.  11.   8.  14.  26.  83. 118.]\n"
     ]
    },
    {
     "name": "stderr",
     "output_type": "stream",
     "text": [
      " 68%|██████▊   | 34/50 [00:07<00:03,  4.47it/s]"
     ]
    },
    {
     "name": "stdout",
     "output_type": "stream",
     "text": [
      "[117. 123. 128. 115.  98.  13.  61.]\n"
     ]
    },
    {
     "name": "stderr",
     "output_type": "stream",
     "text": [
      " 70%|███████   | 35/50 [00:07<00:03,  4.46it/s]"
     ]
    },
    {
     "name": "stdout",
     "output_type": "stream",
     "text": [
      "[  9. 139.  15.  95.  68.  69.  44.]\n"
     ]
    },
    {
     "name": "stderr",
     "output_type": "stream",
     "text": [
      " 72%|███████▏  | 36/50 [00:07<00:03,  4.47it/s]"
     ]
    },
    {
     "name": "stdout",
     "output_type": "stream",
     "text": [
      "[ 72. 117.   5.  62.  13.  46.   3.]\n"
     ]
    },
    {
     "name": "stderr",
     "output_type": "stream",
     "text": [
      " 74%|███████▍  | 37/50 [00:08<00:02,  4.43it/s]"
     ]
    },
    {
     "name": "stdout",
     "output_type": "stream",
     "text": [
      "[ 63.  13.  68.  56. 136.  12.  17.]\n"
     ]
    },
    {
     "name": "stderr",
     "output_type": "stream",
     "text": [
      " 76%|███████▌  | 38/50 [00:08<00:02,  4.46it/s]"
     ]
    },
    {
     "name": "stdout",
     "output_type": "stream",
     "text": [
      "[131. 137.  15.  38.  27.  16. 143.]\n"
     ]
    },
    {
     "name": "stderr",
     "output_type": "stream",
     "text": [
      " 78%|███████▊  | 39/50 [00:08<00:02,  4.48it/s]"
     ]
    },
    {
     "name": "stdout",
     "output_type": "stream",
     "text": [
      "[119.  17.  59. 122.  44.  14.  48.]\n"
     ]
    },
    {
     "name": "stderr",
     "output_type": "stream",
     "text": [
      " 80%|████████  | 40/50 [00:08<00:02,  4.57it/s]"
     ]
    },
    {
     "name": "stdout",
     "output_type": "stream",
     "text": [
      "[ 11.  72.   7.   1. 118.  65. 111.]\n",
      "[ 52.  23. 102. 134. 120. 141.  64.]\n"
     ]
    },
    {
     "name": "stderr",
     "output_type": "stream",
     "text": [
      " 84%|████████▍ | 42/50 [00:09<00:01,  4.53it/s]"
     ]
    },
    {
     "name": "stdout",
     "output_type": "stream",
     "text": [
      "[ 31.  65. 113. 111.  84. 132.  34.]\n"
     ]
    },
    {
     "name": "stderr",
     "output_type": "stream",
     "text": [
      " 86%|████████▌ | 43/50 [00:09<00:01,  4.57it/s]"
     ]
    },
    {
     "name": "stdout",
     "output_type": "stream",
     "text": [
      "[146.  28. 149.  39.  79. 100.  53.]\n",
      "[128. 131.  79.   5.  67.  68.  45.]\n"
     ]
    },
    {
     "name": "stderr",
     "output_type": "stream",
     "text": [
      " 90%|█████████ | 45/50 [00:09<00:01,  4.44it/s]"
     ]
    },
    {
     "name": "stdout",
     "output_type": "stream",
     "text": [
      "[ 73. 109.  30.  67.  48.  59.  89.]\n"
     ]
    },
    {
     "name": "stderr",
     "output_type": "stream",
     "text": [
      " 92%|█████████▏| 46/50 [00:10<00:00,  4.46it/s]"
     ]
    },
    {
     "name": "stdout",
     "output_type": "stream",
     "text": [
      "[ 11.  34.  43. 127. 143. 109.  99.]\n"
     ]
    },
    {
     "name": "stderr",
     "output_type": "stream",
     "text": [
      " 94%|█████████▍| 47/50 [00:10<00:00,  4.54it/s]"
     ]
    },
    {
     "name": "stdout",
     "output_type": "stream",
     "text": [
      "[ 63.  77. 138. 132.  29.  51.  28.]\n"
     ]
    },
    {
     "name": "stderr",
     "output_type": "stream",
     "text": [
      " 96%|█████████▌| 48/50 [00:10<00:00,  4.63it/s]"
     ]
    },
    {
     "name": "stdout",
     "output_type": "stream",
     "text": [
      "[ 30. 113.  73.  39.  58. 142. 118.]\n"
     ]
    },
    {
     "name": "stderr",
     "output_type": "stream",
     "text": [
      " 98%|█████████▊| 49/50 [00:10<00:00,  4.61it/s]"
     ]
    },
    {
     "name": "stdout",
     "output_type": "stream",
     "text": [
      "[124.  28.  74.  86.  77. 130.  66.]\n"
     ]
    },
    {
     "name": "stderr",
     "output_type": "stream",
     "text": [
      "100%|██████████| 50/50 [00:11<00:00,  4.60it/s]"
     ]
    },
    {
     "name": "stdout",
     "output_type": "stream",
     "text": [
      "[ 88.   1.  55.  24. 130. 108.  61.]\n"
     ]
    },
    {
     "name": "stderr",
     "output_type": "stream",
     "text": [
      "100%|██████████| 50/50 [00:11<00:00,  4.52it/s]\n",
      "  0%|          | 0/50 [00:00<?, ?it/s]"
     ]
    },
    {
     "name": "stdout",
     "output_type": "stream",
     "text": [
      "[ 13.  76.  99.  10.  79. 121. 143.  29.]\n"
     ]
    },
    {
     "name": "stderr",
     "output_type": "stream",
     "text": [
      "  2%|▏         | 1/50 [00:02<01:40,  2.05s/it]"
     ]
    },
    {
     "name": "stdout",
     "output_type": "stream",
     "text": [
      "[ 33. 135.  46. 142.  86.  71.  84.  55.]\n"
     ]
    },
    {
     "name": "stderr",
     "output_type": "stream",
     "text": [
      "  4%|▍         | 2/50 [00:04<01:38,  2.04s/it]"
     ]
    },
    {
     "name": "stdout",
     "output_type": "stream",
     "text": [
      "[ 86. 141. 125.  56.  99.  73.  45. 108.]\n"
     ]
    },
    {
     "name": "stderr",
     "output_type": "stream",
     "text": [
      "  6%|▌         | 3/50 [00:06<01:34,  2.01s/it]"
     ]
    },
    {
     "name": "stdout",
     "output_type": "stream",
     "text": [
      "[ 30. 114. 116.  31. 143. 118.  57. 133.]\n"
     ]
    },
    {
     "name": "stderr",
     "output_type": "stream",
     "text": [
      "  8%|▊         | 4/50 [00:08<01:32,  2.00s/it]"
     ]
    },
    {
     "name": "stdout",
     "output_type": "stream",
     "text": [
      "[129.  65.  58.  59.  80. 148.  77. 104.]\n"
     ]
    },
    {
     "name": "stderr",
     "output_type": "stream",
     "text": [
      " 10%|█         | 5/50 [00:10<01:30,  2.00s/it]"
     ]
    },
    {
     "name": "stdout",
     "output_type": "stream",
     "text": [
      "[142. 129.  65.  37. 101. 105. 116. 127.]\n"
     ]
    },
    {
     "name": "stderr",
     "output_type": "stream",
     "text": [
      " 12%|█▏        | 6/50 [00:12<01:28,  2.00s/it]"
     ]
    },
    {
     "name": "stdout",
     "output_type": "stream",
     "text": [
      "[116. 113.  12.  92. 103.  85.  51. 140.]\n"
     ]
    },
    {
     "name": "stderr",
     "output_type": "stream",
     "text": [
      " 14%|█▍        | 7/50 [00:14<01:26,  2.02s/it]"
     ]
    },
    {
     "name": "stdout",
     "output_type": "stream",
     "text": [
      "[113.  39.  21. 140. 109.  86. 139.  84.]\n"
     ]
    },
    {
     "name": "stderr",
     "output_type": "stream",
     "text": [
      " 16%|█▌        | 8/50 [00:16<01:25,  2.03s/it]"
     ]
    },
    {
     "name": "stdout",
     "output_type": "stream",
     "text": [
      "[ 81.  64.  30. 137.  13. 107. 104.  15.]\n"
     ]
    },
    {
     "name": "stderr",
     "output_type": "stream",
     "text": [
      " 18%|█▊        | 9/50 [00:18<01:24,  2.05s/it]"
     ]
    },
    {
     "name": "stdout",
     "output_type": "stream",
     "text": [
      "[121.  53. 103.  54. 132.  32.  95.  25.]\n"
     ]
    },
    {
     "name": "stderr",
     "output_type": "stream",
     "text": [
      " 20%|██        | 10/50 [00:20<01:21,  2.05s/it]"
     ]
    },
    {
     "name": "stdout",
     "output_type": "stream",
     "text": [
      "[ 65. 147.  23.  60.  19. 146.  57. 122.]\n"
     ]
    },
    {
     "name": "stderr",
     "output_type": "stream",
     "text": [
      " 22%|██▏       | 11/50 [00:22<01:19,  2.04s/it]"
     ]
    },
    {
     "name": "stdout",
     "output_type": "stream",
     "text": [
      "[ 86.  17.   0.   2.  72.  77.  44. 127.]\n"
     ]
    },
    {
     "name": "stderr",
     "output_type": "stream",
     "text": [
      " 24%|██▍       | 12/50 [00:24<01:17,  2.05s/it]"
     ]
    },
    {
     "name": "stdout",
     "output_type": "stream",
     "text": [
      "[149.  93.  32.   0. 104.  34.  55. 139.]\n"
     ]
    },
    {
     "name": "stderr",
     "output_type": "stream",
     "text": [
      " 26%|██▌       | 13/50 [00:26<01:15,  2.03s/it]"
     ]
    },
    {
     "name": "stdout",
     "output_type": "stream",
     "text": [
      "[141.  56.  27. 143.  91.  55. 146.  15.]\n"
     ]
    },
    {
     "name": "stderr",
     "output_type": "stream",
     "text": [
      " 28%|██▊       | 14/50 [00:28<01:13,  2.04s/it]"
     ]
    },
    {
     "name": "stdout",
     "output_type": "stream",
     "text": [
      "[ 29. 114.  70.  84.  85.  64.  17. 138.]\n"
     ]
    },
    {
     "name": "stderr",
     "output_type": "stream",
     "text": [
      " 30%|███       | 15/50 [00:30<01:11,  2.04s/it]"
     ]
    },
    {
     "name": "stdout",
     "output_type": "stream",
     "text": [
      "[ 82.  34. 116.   8. 102.  38.   2. 107.]\n"
     ]
    },
    {
     "name": "stderr",
     "output_type": "stream",
     "text": [
      " 32%|███▏      | 16/50 [00:32<01:09,  2.03s/it]"
     ]
    },
    {
     "name": "stdout",
     "output_type": "stream",
     "text": [
      "[ 40. 114. 109.  69.  38. 121. 147.  98.]\n"
     ]
    },
    {
     "name": "stderr",
     "output_type": "stream",
     "text": [
      " 34%|███▍      | 17/50 [00:34<01:07,  2.04s/it]"
     ]
    },
    {
     "name": "stdout",
     "output_type": "stream",
     "text": [
      "[ 72.  54.  89. 132. 118.  33. 128. 111.]\n"
     ]
    },
    {
     "name": "stderr",
     "output_type": "stream",
     "text": [
      " 36%|███▌      | 18/50 [00:36<01:04,  2.02s/it]"
     ]
    },
    {
     "name": "stdout",
     "output_type": "stream",
     "text": [
      "[129.  64.  89.   9.  24.  15.  65. 148.]\n"
     ]
    },
    {
     "name": "stderr",
     "output_type": "stream",
     "text": [
      " 38%|███▊      | 19/50 [00:38<01:02,  2.02s/it]"
     ]
    },
    {
     "name": "stdout",
     "output_type": "stream",
     "text": [
      "[137. 143.  76.  33.  93.  44.  43.   9.]\n"
     ]
    },
    {
     "name": "stderr",
     "output_type": "stream",
     "text": [
      " 40%|████      | 20/50 [00:40<01:00,  2.01s/it]"
     ]
    },
    {
     "name": "stdout",
     "output_type": "stream",
     "text": [
      "[127. 121.  60.  27. 133.  57. 147.  21.]\n"
     ]
    },
    {
     "name": "stderr",
     "output_type": "stream",
     "text": [
      " 42%|████▏     | 21/50 [00:42<00:58,  2.02s/it]"
     ]
    },
    {
     "name": "stdout",
     "output_type": "stream",
     "text": [
      "[103.  83.  53.  18.  21. 132.  15. 147.]\n"
     ]
    },
    {
     "name": "stderr",
     "output_type": "stream",
     "text": [
      " 44%|████▍     | 22/50 [00:44<00:56,  2.03s/it]"
     ]
    },
    {
     "name": "stdout",
     "output_type": "stream",
     "text": [
      "[103.  19. 137.  71.  66. 105. 138. 123.]\n"
     ]
    },
    {
     "name": "stderr",
     "output_type": "stream",
     "text": [
      " 46%|████▌     | 23/50 [00:46<00:55,  2.04s/it]"
     ]
    },
    {
     "name": "stdout",
     "output_type": "stream",
     "text": [
      "[ 16.  86.  38.   9. 129.  45.  85.  92.]\n"
     ]
    },
    {
     "name": "stderr",
     "output_type": "stream",
     "text": [
      " 48%|████▊     | 24/50 [00:48<00:53,  2.06s/it]"
     ]
    },
    {
     "name": "stdout",
     "output_type": "stream",
     "text": [
      "[ 62. 147. 141.  68.  44. 148.  16.  65.]\n"
     ]
    },
    {
     "name": "stderr",
     "output_type": "stream",
     "text": [
      " 50%|█████     | 25/50 [00:50<00:51,  2.07s/it]"
     ]
    },
    {
     "name": "stdout",
     "output_type": "stream",
     "text": [
      "[ 25.  49. 125.  94.  90. 104.  22. 135.]\n"
     ]
    },
    {
     "name": "stderr",
     "output_type": "stream",
     "text": [
      " 52%|█████▏    | 26/50 [00:53<00:50,  2.09s/it]"
     ]
    },
    {
     "name": "stdout",
     "output_type": "stream",
     "text": [
      "[  4.  91.  87. 141.  83.  36.  51. 118.]\n"
     ]
    },
    {
     "name": "stderr",
     "output_type": "stream",
     "text": [
      " 54%|█████▍    | 27/50 [00:55<00:47,  2.07s/it]"
     ]
    },
    {
     "name": "stdout",
     "output_type": "stream",
     "text": [
      "[ 73.  68.  95.  97. 130.  18.  57.  82.]\n"
     ]
    },
    {
     "name": "stderr",
     "output_type": "stream",
     "text": [
      " 56%|█████▌    | 28/50 [00:57<00:45,  2.07s/it]"
     ]
    },
    {
     "name": "stdout",
     "output_type": "stream",
     "text": [
      "[106.  16.  69. 120.  35.  95.  48.  34.]\n"
     ]
    },
    {
     "name": "stderr",
     "output_type": "stream",
     "text": [
      " 58%|█████▊    | 29/50 [00:59<00:43,  2.08s/it]"
     ]
    },
    {
     "name": "stdout",
     "output_type": "stream",
     "text": [
      "[ 84.  56.   3. 109.  83.  59.  27.  31.]\n"
     ]
    },
    {
     "name": "stderr",
     "output_type": "stream",
     "text": [
      " 60%|██████    | 30/50 [01:01<00:41,  2.05s/it]"
     ]
    },
    {
     "name": "stdout",
     "output_type": "stream",
     "text": [
      "[ 46. 102.  64. 128.  50. 138.  67.   4.]\n"
     ]
    },
    {
     "name": "stderr",
     "output_type": "stream",
     "text": [
      " 62%|██████▏   | 31/50 [01:03<00:38,  2.03s/it]"
     ]
    },
    {
     "name": "stdout",
     "output_type": "stream",
     "text": [
      "[  7. 104.  92.  60. 127.  86.  26.  29.]\n"
     ]
    },
    {
     "name": "stderr",
     "output_type": "stream",
     "text": [
      " 64%|██████▍   | 32/50 [01:05<00:36,  2.03s/it]"
     ]
    },
    {
     "name": "stdout",
     "output_type": "stream",
     "text": [
      "[ 13. 136. 144. 148.  57.  54.  70.   7.]\n"
     ]
    },
    {
     "name": "stderr",
     "output_type": "stream",
     "text": [
      " 66%|██████▌   | 33/50 [01:07<00:34,  2.02s/it]"
     ]
    },
    {
     "name": "stdout",
     "output_type": "stream",
     "text": [
      "[ 10. 113. 144.  53. 136. 112.  17.  44.]\n"
     ]
    },
    {
     "name": "stderr",
     "output_type": "stream",
     "text": [
      " 68%|██████▊   | 34/50 [01:09<00:32,  2.01s/it]"
     ]
    },
    {
     "name": "stdout",
     "output_type": "stream",
     "text": [
      "[ 46.  18.  83.  71. 115.   3.  64.  23.]\n"
     ]
    },
    {
     "name": "stderr",
     "output_type": "stream",
     "text": [
      " 70%|███████   | 35/50 [01:11<00:30,  2.01s/it]"
     ]
    },
    {
     "name": "stdout",
     "output_type": "stream",
     "text": [
      "[123. 118.  53. 104.  97. 114. 124.  65.]\n"
     ]
    },
    {
     "name": "stderr",
     "output_type": "stream",
     "text": [
      " 72%|███████▏  | 36/50 [01:13<00:28,  2.03s/it]"
     ]
    },
    {
     "name": "stdout",
     "output_type": "stream",
     "text": [
      "[ 32.  68. 126.  20.  89. 143.  63.  55.]\n"
     ]
    },
    {
     "name": "stderr",
     "output_type": "stream",
     "text": [
      " 74%|███████▍  | 37/50 [01:15<00:26,  2.02s/it]"
     ]
    },
    {
     "name": "stdout",
     "output_type": "stream",
     "text": [
      "[ 76. 137.  19.  68.  13. 141.  87. 121.]\n"
     ]
    },
    {
     "name": "stderr",
     "output_type": "stream",
     "text": [
      " 76%|███████▌  | 38/50 [01:17<00:24,  2.02s/it]"
     ]
    },
    {
     "name": "stdout",
     "output_type": "stream",
     "text": [
      "[132.  40. 120.  42.  92.  99.  17.  33.]\n"
     ]
    },
    {
     "name": "stderr",
     "output_type": "stream",
     "text": [
      " 78%|███████▊  | 39/50 [01:19<00:22,  2.02s/it]"
     ]
    },
    {
     "name": "stdout",
     "output_type": "stream",
     "text": [
      "[ 13.  20.   2. 146.   6.  76. 123.  32.]\n"
     ]
    },
    {
     "name": "stderr",
     "output_type": "stream",
     "text": [
      " 80%|████████  | 40/50 [01:21<00:20,  2.04s/it]"
     ]
    },
    {
     "name": "stdout",
     "output_type": "stream",
     "text": [
      "[ 69.  72.   2.  36. 138.  80.  34. 100.]\n"
     ]
    },
    {
     "name": "stderr",
     "output_type": "stream",
     "text": [
      " 82%|████████▏ | 41/50 [01:23<00:18,  2.03s/it]"
     ]
    },
    {
     "name": "stdout",
     "output_type": "stream",
     "text": [
      "[ 16.   6.  94. 133.  12. 147.  54.   4.]\n"
     ]
    },
    {
     "name": "stderr",
     "output_type": "stream",
     "text": [
      " 84%|████████▍ | 42/50 [01:25<00:16,  2.03s/it]"
     ]
    },
    {
     "name": "stdout",
     "output_type": "stream",
     "text": [
      "[ 23.  83. 119. 101. 116. 106. 108.   6.]\n"
     ]
    },
    {
     "name": "stderr",
     "output_type": "stream",
     "text": [
      " 86%|████████▌ | 43/50 [01:27<00:14,  2.03s/it]"
     ]
    },
    {
     "name": "stdout",
     "output_type": "stream",
     "text": [
      "[ 70.  40.  89. 128.   8.   3.  14.  41.]\n"
     ]
    },
    {
     "name": "stderr",
     "output_type": "stream",
     "text": [
      " 88%|████████▊ | 44/50 [01:29<00:12,  2.07s/it]"
     ]
    },
    {
     "name": "stdout",
     "output_type": "stream",
     "text": [
      "[100.  33. 147.  79. 109. 133.  59. 119.]\n"
     ]
    },
    {
     "name": "stderr",
     "output_type": "stream",
     "text": [
      " 90%|█████████ | 45/50 [01:31<00:10,  2.09s/it]"
     ]
    },
    {
     "name": "stdout",
     "output_type": "stream",
     "text": [
      "[ 40. 122. 107.  15. 114.   6.  49.  72.]\n"
     ]
    },
    {
     "name": "stderr",
     "output_type": "stream",
     "text": [
      " 92%|█████████▏| 46/50 [01:33<00:08,  2.07s/it]"
     ]
    },
    {
     "name": "stdout",
     "output_type": "stream",
     "text": [
      "[ 76.  94.   2.  83. 113.  66. 101. 115.]\n"
     ]
    },
    {
     "name": "stderr",
     "output_type": "stream",
     "text": [
      " 94%|█████████▍| 47/50 [01:35<00:06,  2.07s/it]"
     ]
    },
    {
     "name": "stdout",
     "output_type": "stream",
     "text": [
      "[ 81.   7. 108.  94.  13.   9.  50.  63.]\n"
     ]
    },
    {
     "name": "stderr",
     "output_type": "stream",
     "text": [
      " 96%|█████████▌| 48/50 [01:37<00:04,  2.07s/it]"
     ]
    },
    {
     "name": "stdout",
     "output_type": "stream",
     "text": [
      "[ 83.  90.  76.   0.  89.  58.  54. 148.]\n"
     ]
    },
    {
     "name": "stderr",
     "output_type": "stream",
     "text": [
      " 98%|█████████▊| 49/50 [01:40<00:02,  2.07s/it]"
     ]
    },
    {
     "name": "stdout",
     "output_type": "stream",
     "text": [
      "[121.   2.   7. 104.  97. 101.  58.  38.]\n"
     ]
    },
    {
     "name": "stderr",
     "output_type": "stream",
     "text": [
      "100%|██████████| 50/50 [01:42<00:00,  2.04s/it]\n"
     ]
    }
   ],
   "source": [
    "\n",
    "for n_cluster in range(2, n_clusters+1):\n",
    "    for iter in tqdm(range(n_iter)):\n",
    "        # Choose n_cluster centroids\n",
    "        chosen_clusters = df_embedding.sample(n=n_cluster).cluster_id.values\n",
    "        print(chosen_clusters)\n",
    "        kdist = gather_path_info(df_embedding, chosen_clusters, type='kmeans')\n",
    "        dist = gather_path_info(df_embedding, chosen_clusters, type='ameans')\n",
    "        # Calc path\n",
    "        path_length = kdist\n",
    "\n",
    "        path_lenghts[n_cluster, iter] = path_length\n",
    "        path_lengths_dict['n_clusters'].append(n_cluster)\n",
    "        path_lengths_dict['iteration'].append(iter)\n",
    "        path_lengths_dict['kdistance'].append(kdist)\n",
    "        path_lengths_dict['distance'].append(dist)\n",
    "    # break\n",
    "\n",
    "\n"
   ]
  },
  {
   "cell_type": "code",
   "execution_count": 12,
   "metadata": {},
   "outputs": [
    {
     "name": "stdout",
     "output_type": "stream",
     "text": [
      "   n_clusters  iteration  kdistance   distance\n",
      "0           2          0  18.451511  18.224031\n",
      "1           2          1   5.077015   5.707980\n",
      "2           2          2   6.285599   5.855881\n",
      "3           2          3   5.377060   5.305571\n",
      "4           2          4  24.153990  23.988792\n"
     ]
    }
   ],
   "source": [
    "path_lengths_df = pd.DataFrame(path_lengths_dict)\n",
    "print(path_lengths_df.head())"
   ]
  },
  {
   "cell_type": "code",
   "execution_count": 13,
   "metadata": {},
   "outputs": [],
   "source": [
    "output_file = data_folder + 'path_lengths.csv'\n",
    "path_lengths_df.to_csv(output_file, index=False)\n"
   ]
  },
  {
   "cell_type": "code",
   "execution_count": 30,
   "metadata": {},
   "outputs": [
    {
     "data": {
      "image/png": "[encoded data removed]",
      "text/plain": [
       "<Figure size 640x480 with 1 Axes>"
      ]
     },
     "metadata": {},
     "output_type": "display_data"
    }
   ],
   "source": [
    "for n_cluster in range(n_clusters+1):\n",
    "    plt.scatter(np.zeros((n_iter))+n_cluster, path_lenghts[n_cluster], c='g', marker='.', s=20, alpha=.5)\n",
    "\n",
    "\n",
    "plt.boxplot(path_lenghts.T,\n",
    "        positions=np.arange(n_clusters+1), \n",
    "        patch_artist=False,  # fill with color\n",
    "        boxprops=dict(color='lightgrey'),\n",
    "        whiskerprops=dict(color='lightgrey'),\n",
    "        showfliers = False,\n",
    "        medianprops = dict(color='lightgrey')\n",
    "        ) \n",
    "\n",
    "plt.xlabel('N clusters')\n",
    "plt.ylabel('Path Length')\n",
    "plt.title('Path Lengths for cluster subsets of different sizes')\n",
    "plt.xlim(1.5, n_clusters+.5)\n",
    "plt.show()"
   ]
  },
  {
   "cell_type": "code",
   "execution_count": 15,
   "metadata": {},
   "outputs": [
    {
     "data": {
      "text/plain": [
       "<Figure size 640x480 with 0 Axes>"
      ]
     },
     "metadata": {},
     "output_type": "display_data"
    }
   ],
   "source": [
    "plt.savefig(data_folder + 'path_lengths_plot.png')"
   ]
  }
 ],
 "metadata": {
  "kernelspec": {
   "display_name": "UMAPalam",
   "language": "python",
   "name": "python3"
  },
  "language_info": {
   "codemirror_mode": {
    "name": "ipython",
    "version": 3
   },
   "file_extension": ".py",
   "mimetype": "text/x-python",
   "name": "python",
   "nbconvert_exporter": "python",
   "pygments_lexer": "ipython3",
   "version": "3.12.7"
  }
 },
 "nbformat": 4,
 "nbformat_minor": 2
}
