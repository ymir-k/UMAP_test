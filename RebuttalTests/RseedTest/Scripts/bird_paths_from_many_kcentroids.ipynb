{
 "cells": [
  {
   "cell_type": "markdown",
   "metadata": {},
   "source": [
    "## Rseed Test\n",
    "### Test 3a - Path length\n",
    "\n",
    "This notebook tests whether the path lengths between syllable clusters of a given bird song is consistent across UMAP renditions.\n",
    "\n",
    "Here, we start with the centroids of the clusters in the multiple UMAP embeddings of the 31 tutored bird dataset produced in `find_kmeans_centroids_of_rseed_embeddings.ipynb`.\n",
    "\n",
    "We compute the euclidean distance between each pair of clusters in the shortest path connecting the syllable clusters of a given bird song, in these multiple UMAPs.\n",
    "\n",
    "We check the consistency of the path length of a given bird song across different UMAP renditions."
   ]
  },
  {
   "cell_type": "markdown",
   "metadata": {},
   "source": [
    "#### Auxilliary functions"
   ]
  },
  {
   "cell_type": "code",
   "execution_count": 1,
   "metadata": {},
   "outputs": [],
   "source": [
    "# Import packages\n",
    " \n",
    "import pandas as pd\n",
    "import matplotlib.pyplot as plt\n",
    "import numpy as np\n",
    "from scipy.spatial import distance\n",
    "from tqdm import tqdm\n",
    "import itertools\n",
    "import glob\n"
   ]
  },
  {
   "cell_type": "code",
   "execution_count": 2,
   "metadata": {},
   "outputs": [],
   "source": [
    "def calc_distance(points):\n",
    "    \"\"\" Calculate the euclidean distance between two centroids. \"\"\"\n",
    "\n",
    "    total_distance = 0\n",
    "\n",
    "    for ind in np.arange(1,len(points)):\n",
    "        curr_distance = distance.euclidean(points[ind-1], points[ind])\n",
    "        total_distance += curr_distance\n",
    "\n",
    "    \n",
    "    return total_distance"
   ]
  },
  {
   "cell_type": "code",
   "execution_count": 3,
   "metadata": {},
   "outputs": [],
   "source": [
    "def calc_shortest_distance(bird_id, centroids):\n",
    "    \"\"\" Find the shortest path connecting a set of cluster centroids and calculate the corresponding path length. \"\"\"\n",
    "\n",
    "    if centroids.shape[0]<2:\n",
    "        print('Bird ', bird_id, ' has <2 clusters:', centroids.shape[0])\n",
    "        return 0\n",
    "    \n",
    "    # Find the shortest path by checking all path permutations (not efficient)\n",
    "    all_permutations = np.array(list(itertools.permutations(centroids)))\n",
    "    perm_distances = [calc_distance(permutation) for permutation in all_permutations]\n",
    "    shortest_distance = np.min(perm_distances)\n",
    "\n",
    "    return shortest_distance\n",
    "        "
   ]
  },
  {
   "cell_type": "code",
   "execution_count": 4,
   "metadata": {},
   "outputs": [],
   "source": [
    "def gather_path_info(bird_id, centroid_df,type='kmeans'):\n",
    "    \"\"\" Wrapper function to calculate the shortest path length for a given birdsong. \"\"\"\n",
    "\n",
    "    if type=='ameans':\n",
    "        bird_centroids = centroid_df.loc[centroid_df.bird_id==bird_id, [\"centroid_x\", \"centroid_y\"]].values\n",
    "    elif type=='kmeans': # Using the improved clustering\n",
    "        bird_centroids = centroid_df.loc[centroid_df.bird_id==bird_id, [\"kcentroid_x\", \"kcentroid_y\"]].values\n",
    "    else:\n",
    "        print(\"Type has to be kmeans/ameans.\")\n",
    "\n",
    "    n_syll = bird_centroids.shape[0]\n",
    "\n",
    "    path_length = calc_shortest_distance(bird_id, bird_centroids)\n",
    "\n",
    "    return path_length, n_syll"
   ]
  },
  {
   "cell_type": "code",
   "execution_count": 5,
   "metadata": {},
   "outputs": [],
   "source": [
    "def gather_bird_path_lengths(centroid_df, n_birds, n_iter, rseed):\n",
    "    \"\"\" Wrapper function to calculate the path lengths for all birdsongs. \"\"\"\n",
    "\n",
    "    bird_ids = np.arange(n_birds)\n",
    "    # Find distance between all pairs of clusters\n",
    "    for bird_id in bird_ids:\n",
    "        dist, n_syll = gather_path_info(bird_id, centroid_df, type='ameans')\n",
    "        kdist, n_syll = gather_path_info(bird_id, centroid_df, type='kmeans') # Using the improved clustering\n",
    "\n",
    "        \n",
    "        # Store the pairwise distance in the distance matrix\n",
    "        distance_matrix[bird_id, n_iter] = kdist\n",
    "        # distance_matrix[cluster2, cluster1, n_iter] = 0\n",
    "        distance_dict['bird_id'].append(bird_id)\n",
    "        distance_dict['iteration'].append(n_iter)\n",
    "        distance_dict['rseed'].append(rseed)\n",
    "        distance_dict['distance'].append(dist)\n",
    "        distance_dict['kdistance'].append(kdist)\n",
    "        distance_dict['n_syll'].append(n_syll)\n",
    "        distance_dict['range_0_min'] = centroid_df['range_0_min'].values[0]\n",
    "        distance_dict['range_1_min'] = centroid_df['range_1_max'].values[0]\n",
    "        distance_dict['range_0_max'] = centroid_df['range_0_min'].values[0]\n",
    "        distance_dict['range_1_max'] = centroid_df['range_1_max'].values[0]\n"
   ]
  },
  {
   "cell_type": "markdown",
   "metadata": {},
   "source": [
    "#### Auxilliary information"
   ]
  },
  {
   "cell_type": "code",
   "execution_count": 6,
   "metadata": {},
   "outputs": [],
   "source": [
    "# Assign paths for input and output files\n",
    "results_folder =\"../Results/\"\n",
    "embeddings_folder = results_folder + '/Embeddings/'\n",
    "centroids_folder = results_folder + '/KCentroids/'\n",
    "distances_folder = results_folder + '/KDistances/'\n"
   ]
  },
  {
   "cell_type": "code",
   "execution_count": 7,
   "metadata": {},
   "outputs": [],
   "source": [
    "# Parameters\n",
    "normalise = False\n",
    "n_embeddings = 20\n",
    "# Set the number of iterations and number of clusters expected (= # of digits) \n",
    "n_iterations = n_embeddings #len(rseeds)\n",
    "n_birds  = 31 # Tutored birds"
   ]
  },
  {
   "cell_type": "code",
   "execution_count": 8,
   "metadata": {},
   "outputs": [],
   "source": [
    "# List all files with the information of the centroids of the multiple UMAP embeddings\n",
    "centroid_files = glob.glob(centroids_folder + 'centroids*.csv')"
   ]
  },
  {
   "cell_type": "code",
   "execution_count": 9,
   "metadata": {},
   "outputs": [],
   "source": [
    "# Initialise data structures to hold all the path lengths for bird songs in each UMAP embedding\n",
    "distance_matrix = np.zeros((n_birds, n_iterations))\n",
    "distance_dict = {\n",
    "    'bird_id': [],\n",
    "    'iteration': [],\n",
    "    'rseed': [],\n",
    "    'distance': [],\n",
    "    'kdistance': [],\n",
    "    'n_syll': [],\n",
    "    'range_0_min': [],\n",
    "    'range_1_min': [],\n",
    "    'range_0_max': [],\n",
    "    'range_1_max': []\n",
    "}"
   ]
  },
  {
   "cell_type": "markdown",
   "metadata": {},
   "source": [
    "#### Path length calculation"
   ]
  },
  {
   "cell_type": "code",
   "execution_count": 10,
   "metadata": {},
   "outputs": [
    {
     "name": "stdout",
     "output_type": "stream",
     "text": [
      "/home/remya/Work/AlamTest/Alam JC/Oct 2024/Alam tests/Aux scripts/RseedTest/Results//KCentroids/centroids__56755036.csv\n",
      "/home/remya/Work/AlamTest/Alam JC/Oct 2024/Alam tests/Aux scripts/RseedTest/Results//KCentroids/centroids__21081788.csv\n",
      "/home/remya/Work/AlamTest/Alam JC/Oct 2024/Alam tests/Aux scripts/RseedTest/Results//KCentroids/centroids__26735830.csv\n",
      "/home/remya/Work/AlamTest/Alam JC/Oct 2024/Alam tests/Aux scripts/RseedTest/Results//KCentroids/centroids__31632483.csv\n",
      "/home/remya/Work/AlamTest/Alam JC/Oct 2024/Alam tests/Aux scripts/RseedTest/Results//KCentroids/centroids__96319575.csv\n",
      "/home/remya/Work/AlamTest/Alam JC/Oct 2024/Alam tests/Aux scripts/RseedTest/Results//KCentroids/centroids__91090292.csv\n",
      "/home/remya/Work/AlamTest/Alam JC/Oct 2024/Alam tests/Aux scripts/RseedTest/Results//KCentroids/centroids__13953367.csv\n",
      "/home/remya/Work/AlamTest/Alam JC/Oct 2024/Alam tests/Aux scripts/RseedTest/Results//KCentroids/centroids__4521373.csv\n",
      "/home/remya/Work/AlamTest/Alam JC/Oct 2024/Alam tests/Aux scripts/RseedTest/Results//KCentroids/centroids__4981505.csv\n",
      "/home/remya/Work/AlamTest/Alam JC/Oct 2024/Alam tests/Aux scripts/RseedTest/Results//KCentroids/centroids__85652971.csv\n",
      "/home/remya/Work/AlamTest/Alam JC/Oct 2024/Alam tests/Aux scripts/RseedTest/Results//KCentroids/centroids__56882282.csv\n",
      "/home/remya/Work/AlamTest/Alam JC/Oct 2024/Alam tests/Aux scripts/RseedTest/Results//KCentroids/centroids__3344769.csv\n",
      "/home/remya/Work/AlamTest/Alam JC/Oct 2024/Alam tests/Aux scripts/RseedTest/Results//KCentroids/centroids__13315092.csv\n",
      "/home/remya/Work/AlamTest/Alam JC/Oct 2024/Alam tests/Aux scripts/RseedTest/Results//KCentroids/centroids__93410762.csv\n",
      "/home/remya/Work/AlamTest/Alam JC/Oct 2024/Alam tests/Aux scripts/RseedTest/Results//KCentroids/centroids__88358551.csv\n",
      "/home/remya/Work/AlamTest/Alam JC/Oct 2024/Alam tests/Aux scripts/RseedTest/Results//KCentroids/centroids__65682867.csv\n",
      "/home/remya/Work/AlamTest/Alam JC/Oct 2024/Alam tests/Aux scripts/RseedTest/Results//KCentroids/centroids__98750923.csv\n",
      "/home/remya/Work/AlamTest/Alam JC/Oct 2024/Alam tests/Aux scripts/RseedTest/Results//KCentroids/centroids__35788921.csv\n",
      "/home/remya/Work/AlamTest/Alam JC/Oct 2024/Alam tests/Aux scripts/RseedTest/Results//KCentroids/centroids__76737383.csv\n",
      "/home/remya/Work/AlamTest/Alam JC/Oct 2024/Alam tests/Aux scripts/RseedTest/Results//KCentroids/centroids__88409749.csv\n"
     ]
    }
   ],
   "source": [
    "# Compute the path lengths for all birdsongs in each UMAP embedding\n",
    "for n_iter, centroid_file in enumerate(centroid_files):\n",
    "    rseed = int(centroid_file.split('_')[-1].split('.')[0]) \n",
    "\n",
    "    # if normalise==False:\n",
    "    #     centroid_file = embeddings_folder + 'UMAP_' + str(rseed) + '_centroid.csv'\n",
    "\n",
    "    print(centroid_file)\n",
    "    centroid_df = pd.read_csv(centroid_file)  \n",
    "\n",
    "    gather_bird_path_lengths(centroid_df, n_birds, n_iter, rseed)\n",
    "\n",
    "    \n"
   ]
  },
  {
   "cell_type": "code",
   "execution_count": 12,
   "metadata": {},
   "outputs": [],
   "source": [
    "# Save the distance matrix in an npy file\n",
    "np.save(distances_folder +  'path_length_matrix' + '.npy', distance_matrix)\n",
    "\n",
    "# Store the distance matrix in a csv file\n",
    "distance_df = pd.DataFrame.from_dict(distance_dict)\n",
    "distance_df.to_csv(distances_folder + 'path_length_df' + '.csv', index=True)  "
   ]
  },
  {
   "cell_type": "code",
   "execution_count": 13,
   "metadata": {},
   "outputs": [
    {
     "data": {
      "text/html": [
       "<div>\n",
       "<style scoped>\n",
       "    .dataframe tbody tr th:only-of-type {\n",
       "        vertical-align: middle;\n",
       "    }\n",
       "\n",
       "    .dataframe tbody tr th {\n",
       "        vertical-align: top;\n",
       "    }\n",
       "\n",
       "    .dataframe thead th {\n",
       "        text-align: right;\n",
       "    }\n",
       "</style>\n",
       "<table border=\"1\" class=\"dataframe\">\n",
       "  <thead>\n",
       "    <tr style=\"text-align: right;\">\n",
       "      <th></th>\n",
       "      <th>bird_id</th>\n",
       "      <th>iteration</th>\n",
       "      <th>rseed</th>\n",
       "      <th>distance</th>\n",
       "      <th>kdistance</th>\n",
       "      <th>n_syll</th>\n",
       "      <th>range_0_min</th>\n",
       "      <th>range_1_min</th>\n",
       "      <th>range_0_max</th>\n",
       "      <th>range_1_max</th>\n",
       "    </tr>\n",
       "  </thead>\n",
       "  <tbody>\n",
       "    <tr>\n",
       "      <th>0</th>\n",
       "      <td>0</td>\n",
       "      <td>0</td>\n",
       "      <td>56755036</td>\n",
       "      <td>49.603840</td>\n",
       "      <td>52.074928</td>\n",
       "      <td>6</td>\n",
       "      <td>-16.302376</td>\n",
       "      <td>17.834356</td>\n",
       "      <td>-16.302376</td>\n",
       "      <td>17.834356</td>\n",
       "    </tr>\n",
       "    <tr>\n",
       "      <th>1</th>\n",
       "      <td>1</td>\n",
       "      <td>0</td>\n",
       "      <td>56755036</td>\n",
       "      <td>47.494719</td>\n",
       "      <td>48.703142</td>\n",
       "      <td>5</td>\n",
       "      <td>-16.302376</td>\n",
       "      <td>17.834356</td>\n",
       "      <td>-16.302376</td>\n",
       "      <td>17.834356</td>\n",
       "    </tr>\n",
       "    <tr>\n",
       "      <th>2</th>\n",
       "      <td>2</td>\n",
       "      <td>0</td>\n",
       "      <td>56755036</td>\n",
       "      <td>35.715927</td>\n",
       "      <td>35.872187</td>\n",
       "      <td>6</td>\n",
       "      <td>-16.302376</td>\n",
       "      <td>17.834356</td>\n",
       "      <td>-16.302376</td>\n",
       "      <td>17.834356</td>\n",
       "    </tr>\n",
       "    <tr>\n",
       "      <th>3</th>\n",
       "      <td>3</td>\n",
       "      <td>0</td>\n",
       "      <td>56755036</td>\n",
       "      <td>13.242254</td>\n",
       "      <td>16.606300</td>\n",
       "      <td>4</td>\n",
       "      <td>-16.302376</td>\n",
       "      <td>17.834356</td>\n",
       "      <td>-16.302376</td>\n",
       "      <td>17.834356</td>\n",
       "    </tr>\n",
       "    <tr>\n",
       "      <th>4</th>\n",
       "      <td>4</td>\n",
       "      <td>0</td>\n",
       "      <td>56755036</td>\n",
       "      <td>44.055370</td>\n",
       "      <td>47.606559</td>\n",
       "      <td>4</td>\n",
       "      <td>-16.302376</td>\n",
       "      <td>17.834356</td>\n",
       "      <td>-16.302376</td>\n",
       "      <td>17.834356</td>\n",
       "    </tr>\n",
       "    <tr>\n",
       "      <th>...</th>\n",
       "      <td>...</td>\n",
       "      <td>...</td>\n",
       "      <td>...</td>\n",
       "      <td>...</td>\n",
       "      <td>...</td>\n",
       "      <td>...</td>\n",
       "      <td>...</td>\n",
       "      <td>...</td>\n",
       "      <td>...</td>\n",
       "      <td>...</td>\n",
       "    </tr>\n",
       "    <tr>\n",
       "      <th>615</th>\n",
       "      <td>26</td>\n",
       "      <td>19</td>\n",
       "      <td>88409749</td>\n",
       "      <td>26.443624</td>\n",
       "      <td>28.635379</td>\n",
       "      <td>3</td>\n",
       "      <td>-16.302376</td>\n",
       "      <td>17.834356</td>\n",
       "      <td>-16.302376</td>\n",
       "      <td>17.834356</td>\n",
       "    </tr>\n",
       "    <tr>\n",
       "      <th>616</th>\n",
       "      <td>27</td>\n",
       "      <td>19</td>\n",
       "      <td>88409749</td>\n",
       "      <td>33.342761</td>\n",
       "      <td>29.591575</td>\n",
       "      <td>4</td>\n",
       "      <td>-16.302376</td>\n",
       "      <td>17.834356</td>\n",
       "      <td>-16.302376</td>\n",
       "      <td>17.834356</td>\n",
       "    </tr>\n",
       "    <tr>\n",
       "      <th>617</th>\n",
       "      <td>28</td>\n",
       "      <td>19</td>\n",
       "      <td>88409749</td>\n",
       "      <td>29.202572</td>\n",
       "      <td>31.240902</td>\n",
       "      <td>5</td>\n",
       "      <td>-16.302376</td>\n",
       "      <td>17.834356</td>\n",
       "      <td>-16.302376</td>\n",
       "      <td>17.834356</td>\n",
       "    </tr>\n",
       "    <tr>\n",
       "      <th>618</th>\n",
       "      <td>29</td>\n",
       "      <td>19</td>\n",
       "      <td>88409749</td>\n",
       "      <td>17.325166</td>\n",
       "      <td>19.958627</td>\n",
       "      <td>4</td>\n",
       "      <td>-16.302376</td>\n",
       "      <td>17.834356</td>\n",
       "      <td>-16.302376</td>\n",
       "      <td>17.834356</td>\n",
       "    </tr>\n",
       "    <tr>\n",
       "      <th>619</th>\n",
       "      <td>30</td>\n",
       "      <td>19</td>\n",
       "      <td>88409749</td>\n",
       "      <td>43.649639</td>\n",
       "      <td>44.054070</td>\n",
       "      <td>5</td>\n",
       "      <td>-16.302376</td>\n",
       "      <td>17.834356</td>\n",
       "      <td>-16.302376</td>\n",
       "      <td>17.834356</td>\n",
       "    </tr>\n",
       "  </tbody>\n",
       "</table>\n",
       "<p>620 rows × 10 columns</p>\n",
       "</div>"
      ],
      "text/plain": [
       "     bird_id  iteration     rseed   distance  kdistance  n_syll  range_0_min  \\\n",
       "0          0          0  56755036  49.603840  52.074928       6   -16.302376   \n",
       "1          1          0  56755036  47.494719  48.703142       5   -16.302376   \n",
       "2          2          0  56755036  35.715927  35.872187       6   -16.302376   \n",
       "3          3          0  56755036  13.242254  16.606300       4   -16.302376   \n",
       "4          4          0  56755036  44.055370  47.606559       4   -16.302376   \n",
       "..       ...        ...       ...        ...        ...     ...          ...   \n",
       "615       26         19  88409749  26.443624  28.635379       3   -16.302376   \n",
       "616       27         19  88409749  33.342761  29.591575       4   -16.302376   \n",
       "617       28         19  88409749  29.202572  31.240902       5   -16.302376   \n",
       "618       29         19  88409749  17.325166  19.958627       4   -16.302376   \n",
       "619       30         19  88409749  43.649639  44.054070       5   -16.302376   \n",
       "\n",
       "     range_1_min  range_0_max  range_1_max  \n",
       "0      17.834356   -16.302376    17.834356  \n",
       "1      17.834356   -16.302376    17.834356  \n",
       "2      17.834356   -16.302376    17.834356  \n",
       "3      17.834356   -16.302376    17.834356  \n",
       "4      17.834356   -16.302376    17.834356  \n",
       "..           ...          ...          ...  \n",
       "615    17.834356   -16.302376    17.834356  \n",
       "616    17.834356   -16.302376    17.834356  \n",
       "617    17.834356   -16.302376    17.834356  \n",
       "618    17.834356   -16.302376    17.834356  \n",
       "619    17.834356   -16.302376    17.834356  \n",
       "\n",
       "[620 rows x 10 columns]"
      ]
     },
     "execution_count": 13,
     "metadata": {},
     "output_type": "execute_result"
    }
   ],
   "source": [
    "distance_df"
   ]
  },
  {
   "cell_type": "markdown",
   "metadata": {},
   "source": [
    "In this dataframe, we store the path lengths for each birdsong across all UMAP embeddings.\n",
    "\n",
    "- `bird_id`: Bird id (0-30)\n",
    "- `iteration`: UMAP rendition number\n",
    "- `n_syll`: Syllable count of the given bird\n",
    "- `distance`: path length calculated as per the syllable labels given by the authors\n",
    "- `kdistance`: path length calculated with improved clustering\n",
    "- `rseed`: random seed initialising the UMAP\n",
    "- `range_0_min`, `range_0_max`: UMAP range on one axis\n",
    "- `range_1_min`, `range_1_max`: UMAP range on the other axis"
   ]
  },
  {
   "cell_type": "markdown",
   "metadata": {},
   "source": [
    "### Analyses"
   ]
  },
  {
   "cell_type": "markdown",
   "metadata": {},
   "source": [
    "#### Plotting the path lengths for each bird song across the several iterations\n",
    "\n",
    "It shows that for a given birdsong, the path length varies to a great extent across UMAP renditions."
   ]
  },
  {
   "cell_type": "code",
   "execution_count": 14,
   "metadata": {},
   "outputs": [
    {
     "data": {
      "image/png": "[encoded data removed]",
      "text/plain": [
       "<Figure size 2000x400 with 1 Axes>"
      ]
     },
     "metadata": {},
     "output_type": "display_data"
    }
   ],
   "source": [
    "# Plot distances from all iterations for each pair of syllable clusters\n",
    "fig, ax = plt.subplots(1, figsize=(20, 4))\n",
    "\n",
    "# Iterating through all pairs of syllable\n",
    "for i in np.arange(n_birds):\n",
    "            # Make a box plot\n",
    "            ax.boxplot(distance_matrix[i],\n",
    "                   patch_artist=False,  # fill with color\n",
    "                   positions = [i],\n",
    "                   boxprops=dict(color='lightgrey'),\n",
    "                   whiskerprops=dict(color='lightgrey'),\n",
    "                   showfliers = False,\n",
    "                   medianprops = dict(color='black')\n",
    "                   ) \n",
    "            # Indicate each data point\n",
    "            ax.scatter(np.zeros((n_iterations))+i, distance_matrix[i], s=10, color='blue', marker='.')\n",
    "\n",
    "\n",
    "# Plot formatting\n",
    "ax.set_ylabel('Shortest path length')\n",
    "ax.set_xlabel('Bird id')\n",
    "\n",
    "ax.spines['top'].set_visible(False)\n",
    "ax.spines['right'].set_visible(False)\n",
    "# ax.spines['bottom'].set_visible(False)\n",
    "# ax.spines['left'].set_visible(False)\n",
    "\n"
   ]
  },
  {
   "cell_type": "markdown",
   "metadata": {},
   "source": [
    "Fig: The x axis indicates the birdsong being tested. Each blue point shows the corresponding path length, in one UMAP representation.\n",
    "\n",
    "The box plot describes the distribution of path lengths for a given bird."
   ]
  },
  {
   "cell_type": "code",
   "execution_count": 15,
   "metadata": {},
   "outputs": [],
   "source": [
    "# Saving the figure\n",
    "fig.savefig(distances_folder + 'path_lengths_vs_seed.png', bbox_inches='tight')"
   ]
  }
 ],
 "metadata": {
  "kernelspec": {
   "display_name": "UMAPalam",
   "language": "python",
   "name": "python3"
  },
  "language_info": {
   "codemirror_mode": {
    "name": "ipython",
    "version": 3
   },
   "file_extension": ".py",
   "mimetype": "text/x-python",
   "name": "python",
   "nbconvert_exporter": "python",
   "pygments_lexer": "ipython3",
   "version": "3.11.10"
  }
 },
 "nbformat": 4,
 "nbformat_minor": 2
}
